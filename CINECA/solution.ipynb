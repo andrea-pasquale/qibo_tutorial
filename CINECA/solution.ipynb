{
 "cells": [
  {
   "cell_type": "markdown",
   "id": "bc6536c5",
   "metadata": {},
   "source": [
    "## Exercise: Grover's Algorithms\n",
    "Brief description of Grover's algorithm (maybe on the slides?)"
   ]
  },
  {
   "cell_type": "markdown",
   "id": "4b707f53",
   "metadata": {},
   "source": [
    "Package required:"
   ]
  },
  {
   "cell_type": "code",
   "execution_count": null,
   "id": "2139c716",
   "metadata": {},
   "outputs": [],
   "source": [
    "!pip install qibo\n",
    "!pip install qibojit"
   ]
  },
  {
   "cell_type": "markdown",
   "id": "e7ca016f",
   "metadata": {},
   "source": [
    "Check the version"
   ]
  },
  {
   "cell_type": "code",
   "execution_count": null,
   "id": "7256189e",
   "metadata": {},
   "outputs": [],
   "source": [
    "import qibo\n",
    "import qibojit\n",
    "print(qibo.__version__)\n",
    "print(qibojit.__version__)"
   ]
  },
  {
   "cell_type": "markdown",
   "id": "8b4e52f7",
   "metadata": {},
   "source": [
    "Import modules"
   ]
  },
  {
   "cell_type": "code",
   "execution_count": null,
   "id": "b7d0b823",
   "metadata": {},
   "outputs": [],
   "source": [
    "import numpy as np\n",
    "import matplotlib.pyplot as plt\n",
    "from qibo import models, gates, set_backend\n",
    "set_backend(\"numpy\")"
   ]
  },
  {
   "cell_type": "markdown",
   "id": "3b0fd511",
   "metadata": {},
   "source": [
    "### Exercise: Grover's algorithm using Qibo\n",
    "\n",
    "We already saw in the slides that the Grover's algorithm is divided into 3 different parts\n",
    "* Create superposition\n",
    "* Create oracle\n",
    "* Create diffusion operator\n",
    "\n",
    "Write quantum circuit that implements Grover's algorithm for a generic initial state.\n",
    "\n",
    "*Hint: Start by the case 11...1*"
   ]
  },
  {
   "cell_type": "markdown",
   "id": "2023dfec",
   "metadata": {},
   "source": [
    "#### Step 1: creating the superposition\n",
    "We need to write a circuit that will implement the superposition of all possible states."
   ]
  },
  {
   "cell_type": "code",
   "execution_count": null,
   "id": "d2219c03",
   "metadata": {},
   "outputs": [],
   "source": [
    "def create_superposition(nqubits):\n",
    "    \"\"\"Create circuit for superposition\"\"\"\n",
    "    superposition = models.Circuit(nqubits+1)\n",
    "    superposition.add([gates.H(i) for i in range(nqubits)])\n",
    "    # Add ancilla qubit\n",
    "    superposition.add(gates.X(nqubits))\n",
    "    superposition.add(gates.H(nqubits))\n",
    "\n",
    "    return superposition"
   ]
  },
  {
   "cell_type": "markdown",
   "id": "bb75573a",
   "metadata": {},
   "source": [
    "You can check the gates in the circuit by drawing it"
   ]
  },
  {
   "cell_type": "code",
   "execution_count": null,
   "id": "33e0df47",
   "metadata": {},
   "outputs": [],
   "source": [
    "superposition = create_superposition(3)\n",
    "print(superposition.draw())"
   ]
  },
  {
   "cell_type": "markdown",
   "id": "9ca2c74f",
   "metadata": {},
   "source": [
    "To check whether the circuit works as expected you can visualize the amplitudes using the function `plot_amplitude`."
   ]
  },
  {
   "cell_type": "code",
   "execution_count": null,
   "id": "16d6b61f",
   "metadata": {},
   "outputs": [],
   "source": [
    "def plot_amplitudes(amplitudes):\n",
    "    \"\"\"Plot amplitudes of the quantum circuit\"\"\"\n",
    "    amplitudes = amplitudes.state()\n",
    "    states = []\n",
    "    amp = []\n",
    "    for i in range(int(len(amplitudes)/2)):\n",
    "        states.append(\"{0:0{bits}b}\".format(i, bits=int(np.log2(len(amplitudes)/2))))\n",
    "    for i in range(0, len(amplitudes), 2):\n",
    "        amp.append((1/np.sqrt(2))*(np.real(amplitudes[i])-np.real(amplitudes[i+1])))\n",
    "    fig = plt.figure(figsize = (18,6))\n",
    "    width = 0.5\n",
    "    plt.title('Amplitudes', fontdict={'fontsize': 14})\n",
    "    plt.xlabel('state', fontsize=14)\n",
    "    plt.ylabel('magnitude', fontsize=14)\n",
    "    plt.ylim(-1.1,1.1)\n",
    "    plt.bar(states, amp, color='C0', width=width)\n",
    "    plt.grid()\n",
    "    plt.show()"
   ]
  },
  {
   "cell_type": "code",
   "execution_count": null,
   "id": "410185a0",
   "metadata": {},
   "outputs": [],
   "source": [
    "result = superposition()\n",
    "plot_amplitudes(result)"
   ]
  },
  {
   "cell_type": "markdown",
   "id": "3ec71224",
   "metadata": {},
   "source": [
    "### Coding the oracle\n",
    "The oralcle is the operator that changes the sign of the amplitudes of the quantum states that encode solutions of the problem.\n"
   ]
  },
  {
   "cell_type": "code",
   "execution_count": null,
   "id": "e6e0d137",
   "metadata": {},
   "outputs": [],
   "source": [
    "def create_oracle(state='111'):\n",
    "    \"\"\"Oracle\"\"\"\n",
    "    nqubits = len(state)\n",
    "    index = [i for i,value in enumerate(list(state)) if value == '0']\n",
    "    oracle = models.Circuit(nqubits+1)\n",
    "    oracle.add([gates.X(i) for i in index])\n",
    "    oracle.add(gates.X(nqubits).controlled_by(*range(nqubits)))\n",
    "    oracle.add([gates.X(i) for i in index])\n",
    "    return oracle"
   ]
  },
  {
   "cell_type": "markdown",
   "id": "276eddaa",
   "metadata": {},
   "source": [
    "Note the use of `gate.controlled_by` method which allows to control any gate to an arbitrary number of qubits"
   ]
  },
  {
   "cell_type": "code",
   "execution_count": null,
   "id": "511ab2b3",
   "metadata": {},
   "outputs": [],
   "source": [
    "oracle = create_oracle('101')\n",
    "print(oracle.draw())"
   ]
  },
  {
   "cell_type": "markdown",
   "id": "8045d566",
   "metadata": {},
   "source": [
    "Lets check again the final amplitudes after creating the superposition and applying the oracle. \n",
    "\n",
    "First we create the total circuit"
   ]
  },
  {
   "cell_type": "code",
   "execution_count": null,
   "id": "3066fc70",
   "metadata": {},
   "outputs": [],
   "source": [
    "circuit = superposition + oracle\n",
    "print(circuit.draw())"
   ]
  },
  {
   "cell_type": "markdown",
   "id": "38867ab1",
   "metadata": {},
   "source": [
    "and then we plot the final amplitudes using the functon `plot_amplitude`"
   ]
  },
  {
   "cell_type": "code",
   "execution_count": null,
   "id": "9419944f",
   "metadata": {},
   "outputs": [],
   "source": [
    "result = circuit()\n",
    "plot_amplitudes(result)"
   ]
  },
  {
   "cell_type": "markdown",
   "id": "375a28d2",
   "metadata": {},
   "source": [
    "Notice how the oracle inverted the sign of the amplitude of the target state."
   ]
  },
  {
   "cell_type": "markdown",
   "id": "ff5d8235",
   "metadata": {},
   "source": [
    "### Coding the diffuser\n",
    "To perform the diffusion operator we need to invert anything perpendicular to |s⟩. This can be done using a method similar to the Oracle.\n"
   ]
  },
  {
   "cell_type": "code",
   "execution_count": null,
   "id": "b36e435c",
   "metadata": {},
   "outputs": [],
   "source": [
    "def create_diffuser(nqubits):\n",
    "    diffuser = models.Circuit(nqubits)\n",
    "    for i in range(nqubits):\n",
    "        diffuser.add(gates.H(i))\n",
    "    for i in range(nqubits):\n",
    "        diffuser.add(gates.X(i))\n",
    "    diffuser.add(gates.Z(0).controlled_by(*range(1,nqubits)))\n",
    "    for i in range(nqubits):\n",
    "        diffuser.add(gates.X(i))\n",
    "    for i in range(nqubits):\n",
    "        diffuser.add(gates.H(i))\n",
    "    return diffuser"
   ]
  },
  {
   "cell_type": "markdown",
   "id": "c7890935",
   "metadata": {},
   "source": [
    "Let's check the amplitudes after the diffusion using the same methods as above"
   ]
  },
  {
   "cell_type": "code",
   "execution_count": null,
   "id": "e6e72674",
   "metadata": {},
   "outputs": [],
   "source": [
    "diffuser = create_diffuser(3)\n",
    "circuit = superposition + oracle\n",
    "circuit.add(diffuser.on_qubits(*range(3)))\n",
    "print(circuit.draw())"
   ]
  },
  {
   "cell_type": "code",
   "execution_count": null,
   "id": "361b4676",
   "metadata": {},
   "outputs": [],
   "source": [
    "result = circuit()\n",
    "plot_amplitudes(result)"
   ]
  },
  {
   "cell_type": "markdown",
   "id": "e5dac2b7",
   "metadata": {},
   "source": [
    "Notice how the diffuser increased the amplitude of the target state."
   ]
  },
  {
   "cell_type": "markdown",
   "id": "2f97b758",
   "metadata": {},
   "source": [
    "### Grover's algorithm\n",
    "\n",
    "Repeating the oracle + diffuser operation for many iterations, further amplifies the probability to measure the target state."
   ]
  },
  {
   "cell_type": "code",
   "execution_count": null,
   "id": "8c87ca8d",
   "metadata": {},
   "outputs": [],
   "source": [
    "def create_grover(state, iterations):\n",
    "    \"\"\"Complete circuit that implements Grover's algorithm.\n",
    "    \n",
    "    Args:\n",
    "        state (str): Target state.\n",
    "        iterations (int): Number of times the oracle + diffuser operation is repeated.\n",
    "    \"\"\"\n",
    "    nqubits = len(state)\n",
    "    superposition = create_superposition(nqubits)\n",
    "    oracle = create_oracle(state)\n",
    "    diffuser = create_diffuser(nqubits)\n",
    "    \n",
    "    grover = models.Circuit(nqubits+1)\n",
    "    grover += superposition\n",
    "    for _ in range(iterations):\n",
    "        grover += oracle\n",
    "        grover.add(diffuser.on_qubits(*range(nqubits)))\n",
    "    # measure all qubits\n",
    "    grover.add([ gates.M(i) for i in range(nqubits)])\n",
    "    return grover"
   ]
  },
  {
   "cell_type": "markdown",
   "id": "9d9e6c59",
   "metadata": {},
   "source": [
    "You can check how the amplitude is affected by changing the number of iterations below"
   ]
  },
  {
   "cell_type": "code",
   "execution_count": null,
   "id": "b7adbe0e",
   "metadata": {},
   "outputs": [],
   "source": [
    "grover = create_grover('101', 2)\n",
    "plot_amplitudes(grover())"
   ]
  },
  {
   "cell_type": "markdown",
   "id": "69c9e6e0",
   "metadata": {},
   "source": [
    "The number of iterations that gives the highest probability is given by\n",
    "\n",
    "$$ \\frac{\\pi }{4}\\sqrt{\\frac{2^{n_{qubits}}}{n_{solutions}}} $$\n",
    "\n",
    "where $n_{solutions}$ is the number of target solutions to the search. In our case $n_{solutions} = 1$."
   ]
  },
  {
   "cell_type": "code",
   "execution_count": null,
   "id": "79ebfba0",
   "metadata": {},
   "outputs": [],
   "source": [
    "def grover_iterations(nqubits, nsol=1):\n",
    "    return int((np.pi/4)*np.sqrt((2**nqubits)/nsol))"
   ]
  },
  {
   "cell_type": "code",
   "execution_count": null,
   "id": "0bef2c02",
   "metadata": {},
   "outputs": [],
   "source": [
    "iterations = grover_iterations(3)\n",
    "iterations"
   ]
  },
  {
   "cell_type": "code",
   "execution_count": null,
   "id": "607c62bc",
   "metadata": {},
   "outputs": [],
   "source": [
    "grover = create_grover('101', iterations)\n",
    "plot_amplitudes(grover())"
   ]
  },
  {
   "cell_type": "markdown",
   "id": "1478a281",
   "metadata": {},
   "source": [
    "We can also have a look at the frequencies of measuring each bitstring"
   ]
  },
  {
   "cell_type": "code",
   "execution_count": null,
   "id": "cc32c87e",
   "metadata": {},
   "outputs": [],
   "source": [
    "result = grover(nshots=1000)\n",
    "result.frequencies()"
   ]
  },
  {
   "cell_type": "markdown",
   "id": "3494e54b",
   "metadata": {},
   "source": [
    "## Let's try to run the Grover's algorithm with an increasing number of qubits?"
   ]
  },
  {
   "cell_type": "markdown",
   "id": "46a923d7",
   "metadata": {},
   "source": [
    "Lets run the following benchmark to understand why hardware acceleration is important."
   ]
  },
  {
   "cell_type": "code",
   "execution_count": null,
   "id": "55742941",
   "metadata": {},
   "outputs": [],
   "source": [
    "import time\n",
    "\n",
    "def performance(backend, qubit_range):\n",
    "    set_backend(backend)\n",
    "    \n",
    "    for i in qubit_range:\n",
    "        iterations = grover_iterations(i,1)\n",
    "        print(\"nqubits\", i, end=\"\")\n",
    "        state = \"1\" * i\n",
    "        circuit = create_grover(state, iterations)\n",
    "        start = time.time()\n",
    "        result = circuit(nshots=1000)\n",
    "        end = time.time()\n",
    "        print(f\"\\tTime = {end-start}\")\n",
    "        # Frequency of the target bitstring\n",
    "        freq = result.frequencies().get(i * '1')\n",
    "        print(\"Frequency =\", freq)\n",
    "        print()"
   ]
  },
  {
   "cell_type": "code",
   "execution_count": null,
   "id": "2d22161b",
   "metadata": {
    "scrolled": true
   },
   "outputs": [],
   "source": [
    "performance(\"numpy\", range(4,16))"
   ]
  },
  {
   "cell_type": "code",
   "execution_count": null,
   "id": "9a406daa",
   "metadata": {},
   "outputs": [],
   "source": [
    "performance(\"qibojit\", range(4,16))"
   ]
  },
  {
   "cell_type": "code",
   "execution_count": null,
   "id": "f30d99c2",
   "metadata": {},
   "outputs": [],
   "source": []
  },
  {
   "cell_type": "code",
   "execution_count": null,
   "id": "32b734b6",
   "metadata": {},
   "outputs": [],
   "source": []
  }
 ],
 "metadata": {
  "kernelspec": {
   "display_name": "Python 3 (ipykernel)",
   "language": "python",
   "name": "python3"
  },
  "language_info": {
   "codemirror_mode": {
    "name": "ipython",
    "version": 3
   },
   "file_extension": ".py",
   "mimetype": "text/x-python",
   "name": "python",
   "nbconvert_exporter": "python",
   "pygments_lexer": "ipython3",
   "version": "3.9.15"
  }
 },
 "nbformat": 4,
 "nbformat_minor": 5
}
