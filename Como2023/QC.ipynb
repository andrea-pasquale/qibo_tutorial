{
 "cells": [
  {
   "cell_type": "markdown",
   "metadata": {
    "id": "UC71_tuVB0zv"
   },
   "source": [
    "# Quantum Computing tutorial"
   ]
  },
  {
   "cell_type": "markdown",
   "metadata": {},
   "source": [
    "In this tutorial we are going to use [Qibo](https://github.com/qiboteam/qibo), an open-source full stack API for quantum simulation, control and characterization.\n",
    "\n",
    "Qibo has different backends to simulate quantum circuits, for our purpose the `numpy` backend is enough."
   ]
  },
  {
   "cell_type": "code",
   "execution_count": 23,
   "metadata": {},
   "outputs": [
    {
     "name": "stderr",
     "output_type": "stream",
     "text": [
      "[Qibo 0.1.15|INFO|2023-07-11 11:50:47]: Using numpy backend on /CPU:0\n"
     ]
    }
   ],
   "source": [
    "from qibo import set_backend\n",
    "set_backend(\"numpy\")"
   ]
  },
  {
   "cell_type": "markdown",
   "metadata": {
    "id": "lw6sXaT0DurT"
   },
   "source": [
    "## Build your first Quantum Circuit using Qibo\n",
    "\n",
    "Lets start from a simple circuit containing 1 qubit:\n",
    "\n"
   ]
  },
  {
   "cell_type": "code",
   "execution_count": 28,
   "metadata": {
    "executionInfo": {
     "elapsed": 2,
     "status": "ok",
     "timestamp": 1688626177936,
     "user": {
      "displayName": "Andrea Pasquale",
      "userId": "10306968523559474406"
     },
     "user_tz": -240
    },
    "id": "MFVo8_CsB9EU"
   },
   "outputs": [],
   "source": [
    "from qibo import gates\n",
    "from qibo.models import Circuit\n",
    "\n",
    "nqubits = 1\n",
    "circuit = Circuit(nqubits=nqubits)"
   ]
  },
  {
   "cell_type": "markdown",
   "metadata": {
    "id": "QO0pbqjj-BlH"
   },
   "source": [
    "We can perform a measurement on the circuit by adding a [Measurement Gate](https://github.com/qiboteam/qibo/blob/73256ed1bfb272db509c05ee8333b5ad54825a46/src/qibo/gates/measurements.py#L9)"
   ]
  },
  {
   "cell_type": "code",
   "execution_count": 29,
   "metadata": {
    "colab": {
     "base_uri": "https://localhost:8080/"
    },
    "executionInfo": {
     "elapsed": 618,
     "status": "ok",
     "timestamp": 1688626390948,
     "user": {
      "displayName": "Andrea Pasquale",
      "userId": "10306968523559474406"
     },
     "user_tz": -240
    },
    "id": "hyA__PrECw8Q",
    "outputId": "a956643c-ecc5-481b-f420-b782e474e8c9"
   },
   "outputs": [
    {
     "data": {
      "text/plain": [
       "MeasurementResult(qubits=(0,), nshots=0)"
      ]
     },
     "execution_count": 29,
     "metadata": {},
     "output_type": "execute_result"
    }
   ],
   "source": [
    "circuit.add(gates.M(0))"
   ]
  },
  {
   "cell_type": "markdown",
   "metadata": {
    "id": "0NgwKdU_-ftp"
   },
   "source": [
    "We can perform a measurement with a fixed number of shots with the folllowing command"
   ]
  },
  {
   "cell_type": "code",
   "execution_count": 30,
   "metadata": {
    "executionInfo": {
     "elapsed": 3,
     "status": "ok",
     "timestamp": 1688626441018,
     "user": {
      "displayName": "Andrea Pasquale",
      "userId": "10306968523559474406"
     },
     "user_tz": -240
    },
    "id": "YAU_N50n-e5U"
   },
   "outputs": [],
   "source": [
    "result = circuit(nshots=100)"
   ]
  },
  {
   "cell_type": "markdown",
   "metadata": {
    "id": "gQtwV6WU-uMM"
   },
   "source": [
    "From the `result` we can retrieve several information about the measurement.\n",
    "\n",
    "\n",
    "*   Samples: bitstrings measured\n",
    "*   Frequencies\n",
    "*   Final state (only for **simulation**)\n",
    "\n"
   ]
  },
  {
   "cell_type": "code",
   "execution_count": 31,
   "metadata": {
    "colab": {
     "base_uri": "https://localhost:8080/"
    },
    "executionInfo": {
     "elapsed": 568,
     "status": "ok",
     "timestamp": 1688626650437,
     "user": {
      "displayName": "Andrea Pasquale",
      "userId": "10306968523559474406"
     },
     "user_tz": -240
    },
    "id": "QXwv1WM5-6CE",
    "outputId": "a0db33e5-27e3-4ac8-f05d-bbc954149a52",
    "scrolled": true
   },
   "outputs": [
    {
     "data": {
      "text/plain": [
       "array([[0],\n",
       "       [0],\n",
       "       [0],\n",
       "       [0],\n",
       "       [0],\n",
       "       [0],\n",
       "       [0],\n",
       "       [0],\n",
       "       [0],\n",
       "       [0],\n",
       "       [0],\n",
       "       [0],\n",
       "       [0],\n",
       "       [0],\n",
       "       [0],\n",
       "       [0],\n",
       "       [0],\n",
       "       [0],\n",
       "       [0],\n",
       "       [0],\n",
       "       [0],\n",
       "       [0],\n",
       "       [0],\n",
       "       [0],\n",
       "       [0],\n",
       "       [0],\n",
       "       [0],\n",
       "       [0],\n",
       "       [0],\n",
       "       [0],\n",
       "       [0],\n",
       "       [0],\n",
       "       [0],\n",
       "       [0],\n",
       "       [0],\n",
       "       [0],\n",
       "       [0],\n",
       "       [0],\n",
       "       [0],\n",
       "       [0],\n",
       "       [0],\n",
       "       [0],\n",
       "       [0],\n",
       "       [0],\n",
       "       [0],\n",
       "       [0],\n",
       "       [0],\n",
       "       [0],\n",
       "       [0],\n",
       "       [0],\n",
       "       [0],\n",
       "       [0],\n",
       "       [0],\n",
       "       [0],\n",
       "       [0],\n",
       "       [0],\n",
       "       [0],\n",
       "       [0],\n",
       "       [0],\n",
       "       [0],\n",
       "       [0],\n",
       "       [0],\n",
       "       [0],\n",
       "       [0],\n",
       "       [0],\n",
       "       [0],\n",
       "       [0],\n",
       "       [0],\n",
       "       [0],\n",
       "       [0],\n",
       "       [0],\n",
       "       [0],\n",
       "       [0],\n",
       "       [0],\n",
       "       [0],\n",
       "       [0],\n",
       "       [0],\n",
       "       [0],\n",
       "       [0],\n",
       "       [0],\n",
       "       [0],\n",
       "       [0],\n",
       "       [0],\n",
       "       [0],\n",
       "       [0],\n",
       "       [0],\n",
       "       [0],\n",
       "       [0],\n",
       "       [0],\n",
       "       [0],\n",
       "       [0],\n",
       "       [0],\n",
       "       [0],\n",
       "       [0],\n",
       "       [0],\n",
       "       [0],\n",
       "       [0],\n",
       "       [0],\n",
       "       [0],\n",
       "       [0]], dtype=int32)"
      ]
     },
     "execution_count": 31,
     "metadata": {},
     "output_type": "execute_result"
    }
   ],
   "source": [
    "result.samples()"
   ]
  },
  {
   "cell_type": "code",
   "execution_count": 32,
   "metadata": {
    "colab": {
     "base_uri": "https://localhost:8080/"
    },
    "executionInfo": {
     "elapsed": 3,
     "status": "ok",
     "timestamp": 1688626665437,
     "user": {
      "displayName": "Andrea Pasquale",
      "userId": "10306968523559474406"
     },
     "user_tz": -240
    },
    "id": "9418J5ew_e4K",
    "outputId": "877c5e0a-9e6e-4baa-a4fd-2606ba70c0d0"
   },
   "outputs": [
    {
     "data": {
      "text/plain": [
       "Counter({'0': 100})"
      ]
     },
     "execution_count": 32,
     "metadata": {},
     "output_type": "execute_result"
    }
   ],
   "source": [
    "result.frequencies()"
   ]
  },
  {
   "cell_type": "markdown",
   "metadata": {
    "id": "77KoBVBz_kwB"
   },
   "source": [
    "### Exercise\n",
    "Which is the initial state of the system?"
   ]
  },
  {
   "cell_type": "markdown",
   "metadata": {},
   "source": [
    "*Put your answer here*"
   ]
  },
  {
   "cell_type": "markdown",
   "metadata": {
    "id": "lQNOEQx9_0N6"
   },
   "source": [
    "Lets check the answer by asking for the state"
   ]
  },
  {
   "cell_type": "code",
   "execution_count": 7,
   "metadata": {
    "colab": {
     "base_uri": "https://localhost:8080/"
    },
    "executionInfo": {
     "elapsed": 3,
     "status": "ok",
     "timestamp": 1688626810978,
     "user": {
      "displayName": "Andrea Pasquale",
      "userId": "10306968523559474406"
     },
     "user_tz": -240
    },
    "id": "7E3SCcAa_jjC",
    "outputId": "95b80eba-bc5c-4fa4-9ab1-f10126586043"
   },
   "outputs": [
    {
     "data": {
      "text/plain": [
       "array([1.+0.j, 0.+0.j])"
      ]
     },
     "execution_count": 7,
     "metadata": {},
     "output_type": "execute_result"
    }
   ],
   "source": [
    "result.state()"
   ]
  },
  {
   "cell_type": "markdown",
   "metadata": {
    "id": "LBe3KFoRALwm"
   },
   "source": [
    "which corresponds to the following state"
   ]
  },
  {
   "cell_type": "code",
   "execution_count": 8,
   "metadata": {
    "colab": {
     "base_uri": "https://localhost:8080/"
    },
    "executionInfo": {
     "elapsed": 618,
     "status": "ok",
     "timestamp": 1688626858899,
     "user": {
      "displayName": "Andrea Pasquale",
      "userId": "10306968523559474406"
     },
     "user_tz": -240
    },
    "id": "RS_qJdqAAHEL",
    "outputId": "7e71eb33-9e60-4e67-f679-17992b18e2a7"
   },
   "outputs": [
    {
     "name": "stdout",
     "output_type": "stream",
     "text": [
      "(1+0j)|0>\n"
     ]
    }
   ],
   "source": [
    "print(result)"
   ]
  },
  {
   "cell_type": "markdown",
   "metadata": {
    "id": "7az_Ojq_AjIE"
   },
   "source": [
    "In QC we can modify the state of a qubit by applying unitary operators. In the quantum circuit paradigm we refer\n",
    "to those operators as gates."
   ]
  },
  {
   "attachments": {
    "400px-Quantum_Logic_Gates.png": {
     "image/png": "[encoded data removed]"
    }
   },
   "cell_type": "markdown",
   "metadata": {},
   "source": [
    "![400px-Quantum_Logic_Gates.png](attachment:400px-Quantum_Logic_Gates.png)\n",
    "You can check which gates are available in Qibo in the [documentation](https://qibo.science/qibo/stable/api-reference/qibo.html#gates)."
   ]
  },
  {
   "cell_type": "markdown",
   "metadata": {},
   "source": [
    "## How do you apply gates in Qibo?\n",
    "You can apply any gate following the same syntax used to perform measurements.\n"
   ]
  },
  {
   "cell_type": "code",
   "execution_count": 33,
   "metadata": {},
   "outputs": [],
   "source": [
    "from qibo import models, gates\n",
    "circuit = models.Circuit(1)\n",
    "circuit.add(gates.X(0))\n",
    "result = circuit()"
   ]
  },
  {
   "cell_type": "markdown",
   "metadata": {},
   "source": [
    "What is the expected outcome of the previous circuit?"
   ]
  },
  {
   "cell_type": "markdown",
   "metadata": {},
   "source": [
    "*Put your answer here* "
   ]
  },
  {
   "cell_type": "code",
   "execution_count": 34,
   "metadata": {},
   "outputs": [
    {
     "name": "stdout",
     "output_type": "stream",
     "text": [
      "(1+0j)|1>\n"
     ]
    }
   ],
   "source": [
    "print(result)"
   ]
  },
  {
   "cell_type": "markdown",
   "metadata": {},
   "source": [
    "## Multi-qubit circuits\n",
    "\n",
    "The generalization to a circuit with multiqubit it is quite straightforward"
   ]
  },
  {
   "cell_type": "code",
   "execution_count": 45,
   "metadata": {},
   "outputs": [],
   "source": [
    "circuit = Circuit(2)\n",
    "# add a Hadamard gate to all qubits\n",
    "for q in range(2):\n",
    "    circuit.add(gates.H(q))\n",
    "# add some CNOT gates\n",
    "circuit.add(gates.CZ(0, 1))"
   ]
  },
  {
   "cell_type": "markdown",
   "metadata": {},
   "source": [
    "We can retrieve some information on the circuit with the following methods"
   ]
  },
  {
   "cell_type": "code",
   "execution_count": 46,
   "metadata": {},
   "outputs": [
    {
     "name": "stdout",
     "output_type": "stream",
     "text": [
      "q0: ─H─o─\n",
      "q1: ─H─Z─\n"
     ]
    }
   ],
   "source": [
    "print(circuit.draw())"
   ]
  },
  {
   "cell_type": "code",
   "execution_count": 47,
   "metadata": {},
   "outputs": [
    {
     "name": "stdout",
     "output_type": "stream",
     "text": [
      "Circuit depth = 2\n",
      "Total number of gates = 3\n",
      "Number of qubits = 2\n",
      "Most common gates:\n",
      "h: 2\n",
      "cz: 1\n"
     ]
    }
   ],
   "source": [
    "print(circuit.summary())"
   ]
  },
  {
   "cell_type": "markdown",
   "metadata": {},
   "source": [
    "Lets add some measurements and execute the circuit"
   ]
  },
  {
   "cell_type": "code",
   "execution_count": 48,
   "metadata": {},
   "outputs": [
    {
     "name": "stdout",
     "output_type": "stream",
     "text": [
      "q0: ─H─o─M─\n",
      "q1: ─H─Z─M─\n"
     ]
    }
   ],
   "source": [
    "circuit.add(gates.M(q) for q in range(2))\n",
    "\n",
    "print(circuit.draw())\n"
   ]
  },
  {
   "cell_type": "code",
   "execution_count": 49,
   "metadata": {},
   "outputs": [
    {
     "name": "stdout",
     "output_type": "stream",
     "text": [
      "(0.5+0j)|00> + (0.5+0j)|01> + (0.5+0j)|10> + (-0.5+0j)|11>\n"
     ]
    }
   ],
   "source": [
    "print(circuit())"
   ]
  },
  {
   "attachments": {
    "image.png": {
     "image/png": "[encoded data removed]"
    }
   },
   "cell_type": "markdown",
   "metadata": {},
   "source": [
    "### Exercise: constructing entangled states\n",
    "It is possible to create entangled states using shallow quantum circuits.\n",
    "For two qubits the maximally entangled states are now as Bell states:\n",
    "\n",
    "$$ \\ket{\\Phi^+} = \\frac{1}{\\sqrt{2}} ( \\ket{0}_A \\ket{0}_B + \\ket{1}_A \\ket{1}_B)$$\n",
    "$$ \\ket{\\Phi^-} = \\frac{1}{\\sqrt{2}} ( \\ket{0}_A \\ket{0}_B - \\ket{1}_A \\ket{1}_B)$$\n",
    "$$ \\ket{\\Psi^+} = \\frac{1}{\\sqrt{2}} ( \\ket{0}_A \\ket{1}_B + \\ket{1}_A \\ket{0}_B)$$\n",
    "$$ \\ket{\\Psi^-} = \\frac{1}{\\sqrt{2}} ( \\ket{0}_A \\ket{1}_B - \\ket{1}_A \\ket{0}_B)$$\n",
    "\n",
    "The simplest way to construct the $\\ket{\\Phi^+}$ is by using a $H$ and a $CNOT$ gate:\n",
    "\n",
    "![image.png ](attachment:image.png)\n",
    "\n",
    "Construct the corresponding circuits to create all Bell states.\n",
    "\n",
    "\n"
   ]
  },
  {
   "cell_type": "markdown",
   "metadata": {},
   "source": [
    "Construct the circuit to create the GHZ state:\n",
    "$$ \\ket{\\text{GHZ}} = \\frac{\\ket{000} + \\ket{111}}{\\sqrt{2}}$$"
   ]
  },
  {
   "cell_type": "markdown",
   "metadata": {},
   "source": [
    "## Advanced features"
   ]
  },
  {
   "cell_type": "markdown",
   "metadata": {},
   "source": [
    "### Controlled gates\n",
    "In Qibo it is possible to control any gate to an arbitrary number of qubits using [`controlled_by`](https://qibo.science/qibo/stable/api-reference/qibo.html#gates).\n",
    "\n",
    "Here is an example:"
   ]
  },
  {
   "cell_type": "code",
   "execution_count": 50,
   "metadata": {},
   "outputs": [
    {
     "name": "stdout",
     "output_type": "stream",
     "text": [
      "q0: ─H─o────\n",
      "q1: ─H─o─o──\n",
      "q2: ─H─o─RX─\n",
      "q3: ─H─Z─o──\n"
     ]
    }
   ],
   "source": [
    "circuit = Circuit(4)\n",
    "circuit.add(gates.H(q) for q in range(4))\n",
    "circuit.add(gates.Z(3).controlled_by(0, 1, 2))\n",
    "circuit.add(gates.RX(2, theta=0.5).controlled_by(1, 3))\n",
    "\n",
    "print(circuit.draw())"
   ]
  },
  {
   "cell_type": "markdown",
   "metadata": {},
   "source": [
    "Gates that are controlled on many qubits are applied by indexing the state and not by constructing the whole $2^n \\times 2^n$\n",
    " matrix representation of the gate, to improve performance and memory requirements"
   ]
  },
  {
   "cell_type": "code",
   "execution_count": 51,
   "metadata": {},
   "outputs": [
    {
     "name": "stdout",
     "output_type": "stream",
     "text": [
      "CPU times: user 133 µs, sys: 168 µs, total: 301 µs\n",
      "Wall time: 294 µs\n"
     ]
    }
   ],
   "source": [
    "%%time\n",
    "nqubits = 15\n",
    "circuit = Circuit(nqubits)\n",
    "circuit.add(gates.X(nqubits - 1).controlled_by(*range(nqubits - 1)))\n",
    "result = circuit()"
   ]
  },
  {
   "cell_type": "code",
   "execution_count": 52,
   "metadata": {},
   "outputs": [
    {
     "name": "stdout",
     "output_type": "stream",
     "text": [
      "CPU times: user 1.4 s, sys: 1.36 s, total: 2.76 s\n",
      "Wall time: 2.76 s\n"
     ]
    }
   ],
   "source": [
    "%%time\n",
    "nqubits = 15\n",
    "matrix = np.eye(2 ** nqubits, dtype=\"complex128\")\n",
    "matrix[-2:, -2:] = np.array([[0, 1], [1, 0]])\n",
    "circuit = Circuit(nqubits)\n",
    "circuit.add(gates.Unitary(matrix, *range(nqubits)))\n",
    "result = circuit()"
   ]
  },
  {
   "cell_type": "markdown",
   "metadata": {},
   "source": [
    "### Add circuits as subroutines\n",
    "\n",
    "Using Qibo we also have the possibility to append a smaller circuit with a bigger circuit using the [`on_qubits`](https://qibo.science/qibo/stable/api-reference/qibo.html#qibo.gates.abstract.Gate.on_qubits) function"
   ]
  },
  {
   "cell_type": "code",
   "execution_count": 53,
   "metadata": {},
   "outputs": [],
   "source": [
    "small_qubits = 2\n",
    "superposition = models.Circuit(small_qubits)\n",
    "superposition.add(gates.H(i) for i in range(small_qubits))"
   ]
  },
  {
   "cell_type": "code",
   "execution_count": 55,
   "metadata": {},
   "outputs": [
    {
     "name": "stdout",
     "output_type": "stream",
     "text": [
      "q0: ─H─M─\n",
      "q1: ─M───\n",
      "q2: ─H─M─\n",
      "q3: ─M───\n"
     ]
    }
   ],
   "source": [
    "large_qubits = 4\n",
    "circuit=models.Circuit(large_qubits)\n",
    "circuit.add(superposition.on_qubits(0,2))\n",
    "circuit.add(gates.M(i) for i in range(large_qubits))\n",
    "print(circuit.draw())"
   ]
  },
  {
   "cell_type": "code",
   "execution_count": null,
   "metadata": {
    "id": "-UQG8Ex-OVpb"
   },
   "outputs": [],
   "source": []
  }
 ],
 "metadata": {
  "colab": {
   "authorship_tag": "ABX9TyMVwqoLnWUvaI0RLneI9oLK",
   "provenance": []
  },
  "kernelspec": {
   "display_name": "Python 3 (ipykernel)",
   "language": "python",
   "name": "python3"
  },
  "language_info": {
   "codemirror_mode": {
    "name": "ipython",
    "version": 3
   },
   "file_extension": ".py",
   "mimetype": "text/x-python",
   "name": "python",
   "nbconvert_exporter": "python",
   "pygments_lexer": "ipython3",
   "version": "3.10.6"
  }
 },
 "nbformat": 4,
 "nbformat_minor": 1
}
