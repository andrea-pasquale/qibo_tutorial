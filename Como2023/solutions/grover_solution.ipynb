{
 "cells": [
  {
   "cell_type": "code",
   "execution_count": null,
   "id": "f439991d",
   "metadata": {},
   "outputs": [],
   "source": [
    "import numpy as np\n",
    "import matplotlib.pyplot as plt\n",
    "from qibo import models, gates, set_backend\n",
    "set_backend(\"numpy\")"
   ]
  },
  {
   "cell_type": "code",
   "execution_count": null,
   "id": "bb0b9bf4",
   "metadata": {},
   "outputs": [],
   "source": [
    "def plot_amplitudes(amplitudes):\n",
    "    \"\"\"Plot amplitudes of the quantum circuit\"\"\"\n",
    "    amplitudes = amplitudes.state()\n",
    "    states = []\n",
    "    for i in range(int(len(amplitudes))):\n",
    "        states.append(\"{0:0{bits}b}\".format(i, bits=int(np.log2(len(amplitudes)/2))))\n",
    "    fig = plt.figure(figsize = (18,6))\n",
    "    width = 0.5\n",
    "    plt.title('Amplitudes', fontdict={'fontsize': 14})\n",
    "    plt.xlabel('state', fontsize=14)\n",
    "    plt.ylabel('magnitude', fontsize=14)\n",
    "    plt.ylim(-1.1,1.1)\n",
    "    plt.bar(states, np.real(amplitudes), color='C0', width=width)\n",
    "    plt.xticks(list(range(len(states))), states, rotation=90)\n",
    "    plt.grid()\n",
    "    plt.show()\n",
    "    \n",
    "def plot_amplitudes_ancilla(amplitudes):\n",
    "    \"\"\"Plot amplitudes of the quantum circuit\"\"\"\n",
    "    amplitudes = amplitudes.state()\n",
    "    states = []\n",
    "    amp = []\n",
    "    for i in range(int(len(amplitudes)/2)):\n",
    "        states.append(\"{0:0{bits}b}\".format(i, bits=int(np.log2(len(amplitudes)/2))))\n",
    "    for i in range(0, len(amplitudes), 2):\n",
    "        amp.append((1/np.sqrt(2))*(np.real(amplitudes[i])-np.real(amplitudes[i+1])))\n",
    "    fig = plt.figure(figsize = (18,6))\n",
    "    width = 0.5\n",
    "    plt.title('Amplitudes', fontdict={'fontsize': 14})\n",
    "    plt.xlabel('state', fontsize=14)\n",
    "    plt.ylabel('magnitude', fontsize=14)\n",
    "    plt.ylim(-1.1,1.1)\n",
    "    plt.bar(states, amp, color='C0', width=width)\n",
    "    plt.xticks(list(range(len(states))), states, rotation=90)\n",
    "    plt.grid()\n",
    "    plt.show()"
   ]
  },
  {
   "cell_type": "markdown",
   "id": "bc6536c5",
   "metadata": {},
   "source": [
    "## Grover's Algorithm\n",
    "\n",
    "Grover’s algorithm is a **quantum search algorithm** that can search for a value or element\n",
    "in an unsorted set in $\\mathcal{O}(\\sqrt{N})$ as opposed to classical search algorithms that at worst\n",
    "will find an element in $\\mathcal{O}(N)$ time.\n",
    "\n",
    "The problem is formulated as follows:"
   ]
  },
  {
   "cell_type": "markdown",
   "id": "6175e32c",
   "metadata": {},
   "source": [
    "### Problem formulation\n",
    "Suppose that we are given a Boolean function\n",
    "$$ f : \\{ 0,1 \\}^n \\rightarrow  \\{ 0,1 \\}$$\n",
    "and we wish to determine a bitstring $x$ such that $f(x) = 1$.\n",
    "\n",
    "*Basically we want to search a specific bitstring in the ensemble for all possible bistrings.*\n",
    "\n",
    "We can model this situation by sypposing that have the following black box:\n",
    "\n",
    "$$ f_w (x) = \\begin{cases} 0 \\quad x \\neq w \\\\ 1 \\quad x = w\\end{cases}$$ \n",
    "\n",
    "where $x \\in \\{ 0,1,2, \\dots, N-1\\} $ for some unknown $w$.\n"
   ]
  },
  {
   "cell_type": "markdown",
   "id": "d1814592",
   "metadata": {},
   "source": [
    "How many times do we need to query the box classically to find $w$?"
   ]
  },
  {
   "cell_type": "markdown",
   "id": "002aded8",
   "metadata": {},
   "source": [
    "*Put your answer here*"
   ]
  },
  {
   "cell_type": "markdown",
   "id": "c6328cfd",
   "metadata": {},
   "source": [
    "We will show that with Grover's algorithm it is possible to find the solution in $\\mathcal{O}(\\sqrt{N})$.\n",
    "\n",
    "### Grover explanation\n",
    "\n",
    "Suppose that we have a quantum **oracle** with the ability to *recognize* the element $w$. To be able to show the solution\n",
    "in QC we often use ancilla/oracle qubits. A general oracle can be written as an unitary operator $O$ acting in the following way:\n",
    "\n",
    "$$\\ket{x}\\ket{q} \\rightarrow \\ket{x}\\ket{q \\oplus f_w(x)}$$\n",
    "where $\\ket{x}$ is the index register and $\\ket{q}$ is the oracle qubit.\n",
    "From the previous Eq. we can see how the sign of $\\ket{q}$ is flipped if $f(x) = 1$. In fact:\n",
    "$$ \\ket{x}\\ket{q \\oplus f_w(w)} = \\ket{x}\\ket{q \\oplus 1} = - \\ket{x}\\ket{q}$$\n",
    "while if $x$ is not the solution we get the same state:\n",
    "$$  \\ket{x}\\ket{q \\oplus f_w(x)} = \\ket{x}\\ket{q \\oplus 0} = \\ket{x}\\ket{q} $$\n",
    "\n"
   ]
  },
  {
   "cell_type": "markdown",
   "id": "dbc532d3",
   "metadata": {},
   "source": [
    "### Procedure"
   ]
  },
  {
   "cell_type": "markdown",
   "id": "774ecf8e",
   "metadata": {},
   "source": [
    "The first step of Grover's algorithm is to prepare the uniform superposition of all values of $x$."
   ]
  },
  {
   "cell_type": "code",
   "execution_count": null,
   "id": "d2219c03",
   "metadata": {},
   "outputs": [],
   "source": [
    "def create_superposition(nqubits):\n",
    "    \"\"\"Create circuit for superposition\"\"\"\n",
    "    superposition = models.Circuit(nqubits)\n",
    "    superposition.add([gates.H(i) for i in range(nqubits)])\n",
    "\n",
    "    return superposition"
   ]
  },
  {
   "cell_type": "markdown",
   "id": "8c4359a2",
   "metadata": {},
   "source": [
    "As we can see now all bistrings have equal probabilities of being sampled:"
   ]
  },
  {
   "cell_type": "code",
   "execution_count": null,
   "id": "b57910f3",
   "metadata": {},
   "outputs": [],
   "source": [
    "nqubits = 4\n",
    "superposition = create_superposition(nqubits)\n",
    "result = superposition()\n",
    "plot_amplitudes(result)\n"
   ]
  },
  {
   "cell_type": "markdown",
   "id": "c793737b",
   "metadata": {},
   "source": [
    "Grover's algorithm aims at finding the marked state by increasing its amplitude while suppressing the others.\n",
    "The amplitude is increased sequentially by applying iteratively the Grover operator $G$ which is defined in the following way:\n",
    "\n",
    "$$ G_w = O_w D$$\n",
    "where $O$ is the oracle and $D$ is the diffuser."
   ]
  },
  {
   "cell_type": "markdown",
   "id": "3ec71224",
   "metadata": {},
   "source": [
    "### The oracle $O$\n",
    "The oracle is the operator that changes the sign of the amplitudes of the quantum states that encode solutions of the problem.\n",
    "As we saw before it corresponds to the following operation:\n",
    "$$O: \\ket{x}\\ket{q} \\rightarrow \\ket{x}\\ket{q \\oplus f_w(x)}$$\n",
    "\n",
    "By choosing $\\ket{-}=\\frac{\\ket{0}-\\ket{1}}{\\sqrt{2}}$ as the initial state for the ancilla qubit we can rewrite the oracle as a *phase oracle*\n",
    "$$O_w: \\ket{x}\\ket{-} \\rightarrow (-)^{f_w(x)}\\ket{x}\\ket{-}$$\n",
    "\n",
    "\n",
    "Which can be expressed as the following (ignoring the output register which remains $\\ket{-}$):\n",
    "\n",
    "$$ O_w = I - 2 \\ket{w} \\bra{w}$$\n",
    "which is exactly the operator which flips $\\ket{w}$.\n"
   ]
  },
  {
   "cell_type": "markdown",
   "id": "2f1f04fb",
   "metadata": {},
   "source": [
    "### Exercise:\n",
    "Code the oracle circuit.\n",
    "\n",
    "*Hint start with a fixed number of qubits and a specific $w$* then generalize to arbitrary $w$ and arbitrary number of qubits."
   ]
  },
  {
   "cell_type": "code",
   "execution_count": null,
   "id": "e6e0d137",
   "metadata": {},
   "outputs": [],
   "source": [
    "def create_oracle(state):\n",
    "    \"\"\"Oracle\"\"\"\n",
    "    nqubits = len(state)\n",
    "    oracle = models.Circuit(nqubits+1)\n",
    "    oracle.add(gates.X(nqubits))\n",
    "    oracle.add(gates.H(nqubits))\n",
    "    index = [i for i,value in enumerate(list(state)) if value == '0']\n",
    "    oracle.add([gates.X(i) for i in index])\n",
    "    oracle.add(gates.X(nqubits).controlled_by(*range(nqubits)))\n",
    "    oracle.add([gates.X(i) for i in index])\n",
    "\n",
    "    return oracle"
   ]
  },
  {
   "cell_type": "markdown",
   "id": "276eddaa",
   "metadata": {},
   "source": [
    "Note the use of `gate.controlled_by` method which allows to control any gate to an arbitrary number of qubits"
   ]
  },
  {
   "cell_type": "code",
   "execution_count": null,
   "id": "511ab2b3",
   "metadata": {},
   "outputs": [],
   "source": [
    "oracle = create_oracle('0101')\n",
    "print(oracle.draw())"
   ]
  },
  {
   "cell_type": "markdown",
   "id": "8045d566",
   "metadata": {},
   "source": [
    "Lets check again the final amplitudes after creating the superposition and applying the oracle. \n",
    "\n",
    "First we create the total circuit"
   ]
  },
  {
   "cell_type": "code",
   "execution_count": null,
   "id": "3066fc70",
   "metadata": {},
   "outputs": [],
   "source": [
    "circuit = models.Circuit(nqubits+1)\n",
    "circuit.add(superposition.on_qubits(*range(nqubits)))\n",
    "circuit += oracle\n",
    "print(circuit.draw())\n",
    "result = circuit()\n",
    "plot_amplitudes_ancilla(result)"
   ]
  },
  {
   "cell_type": "markdown",
   "id": "375a28d2",
   "metadata": {},
   "source": [
    "Notice how the oracle inverted the sign of the amplitude of the target state."
   ]
  },
  {
   "cell_type": "markdown",
   "id": "ff5d8235",
   "metadata": {},
   "source": [
    "### The diffuser $D$\n",
    "\n",
    "The diffuser increase the amplitude of the marked state while lowering the other ones.\n",
    "Mathematically corresponds to the following operator:\n",
    "\n",
    "$$D = 2 \\ket{s} \\bra{s} - I$$\n",
    "where $\\ket{s} = H^{\\otimes n} \\ket{0}$.\n",
    "\n"
   ]
  },
  {
   "cell_type": "markdown",
   "id": "52995aea",
   "metadata": {},
   "source": [
    "### Exercise\n",
    "\n",
    "Implement the $D$ operator.\n",
    "\n",
    "*Hint: $D$ can be decomposed in the following way:*\n",
    "$$ D = H^{\\otimes n} CPS_0 H^{\\otimes n}$$\n",
    "*where $CPS_0$ is a conditional phase shift that flips the sign of all amplitudes but the state $\\ket{0}$*\n",
    "$$ CPS_0 \\ket{x} \\rightarrow - (-)^{\\delta_{x0}} \\ket{x} $$ "
   ]
  },
  {
   "cell_type": "code",
   "execution_count": null,
   "id": "b36e435c",
   "metadata": {},
   "outputs": [],
   "source": [
    "def create_diffuser(nqubits):\n",
    "    diffuser = models.Circuit(nqubits)\n",
    "    for i in range(nqubits):\n",
    "        diffuser.add(gates.H(i))\n",
    "    for i in range(nqubits):\n",
    "        diffuser.add(gates.X(i))\n",
    "    diffuser.add(gates.Z(0).controlled_by(*range(1,nqubits)))\n",
    "    for i in range(nqubits):\n",
    "        diffuser.add(gates.X(i))\n",
    "    for i in range(nqubits):\n",
    "        diffuser.add(gates.H(i))\n",
    "    return diffuser"
   ]
  },
  {
   "cell_type": "markdown",
   "id": "c7890935",
   "metadata": {},
   "source": [
    "Let's check the amplitudes after the diffusion using the same methods as above"
   ]
  },
  {
   "cell_type": "code",
   "execution_count": null,
   "id": "e6e72674",
   "metadata": {},
   "outputs": [],
   "source": [
    "diffuser = create_diffuser(nqubits)\n",
    "print(diffuser.draw())\n",
    "grover = models.Circuit(nqubits+1)\n",
    "grover.add(superposition.on_qubits(*range(nqubits)))\n",
    "grover += create_oracle('0101')\n",
    "grover.add(diffuser.on_qubits(*range(nqubits)))\n",
    "print(grover.draw())"
   ]
  },
  {
   "cell_type": "code",
   "execution_count": null,
   "id": "361b4676",
   "metadata": {},
   "outputs": [],
   "source": [
    "result = grover()\n",
    "plot_amplitudes_ancilla(result)"
   ]
  },
  {
   "cell_type": "markdown",
   "id": "e5dac2b7",
   "metadata": {},
   "source": [
    "Notice how the diffuser increased the amplitude of the target state."
   ]
  },
  {
   "attachments": {
    "image.png": {
     "image/png": "[encoded data removed]"
    }
   },
   "cell_type": "markdown",
   "id": "2f97b758",
   "metadata": {},
   "source": [
    "### Grover's algorithm\n",
    "\n",
    "By combining all the previous elements we can construct the full Grover's algorithm\n",
    "\n",
    "![image.png](attachment:image.png)\n",
    "\n",
    "### Exercise: implement Grover's algorithm"
   ]
  },
  {
   "cell_type": "code",
   "execution_count": null,
   "id": "8c87ca8d",
   "metadata": {},
   "outputs": [],
   "source": [
    "def create_grover(state, iterations):\n",
    "    \"\"\"Complete circuit that implements Grover's algorithm.\n",
    "    \n",
    "    Args:\n",
    "        state (str): Target state.\n",
    "        iterations (int): Number of times the oracle + diffuser operation is repeated.\n",
    "    \"\"\"\n",
    "    nqubits = len(state)\n",
    "    superposition = create_superposition(nqubits)\n",
    "    oracle = create_oracle(state)\n",
    "    diffuser = create_diffuser(nqubits)\n",
    "    \n",
    "    grover = models.Circuit(nqubits+1)\n",
    "    grover.add(superposition.on_qubits(*range(nqubits)))\n",
    "    for _ in range(iterations):\n",
    "        grover += oracle\n",
    "        grover.add(diffuser.on_qubits(*range(nqubits)))\n",
    "    # measure all qubits\n",
    "    grover.add([ gates.M(i) for i in range(nqubits)])\n",
    "    return grover"
   ]
  },
  {
   "cell_type": "markdown",
   "id": "9d9e6c59",
   "metadata": {},
   "source": [
    "You can check how the amplitude is affected by changing the number of iterations below"
   ]
  },
  {
   "cell_type": "code",
   "execution_count": null,
   "id": "b7adbe0e",
   "metadata": {},
   "outputs": [],
   "source": [
    "grover = create_grover('101', 2)\n",
    "plot_amplitudes_ancilla(grover())"
   ]
  },
  {
   "cell_type": "markdown",
   "id": "69c9e6e0",
   "metadata": {},
   "source": [
    "The number of iterations that gives the highest probability is given by\n",
    "\n",
    "$$ \\frac{\\pi }{4}\\sqrt{\\frac{2^{n_{qubits}}}{n_{solutions}}} $$\n",
    "\n",
    "where $n_{solutions}$ is the number of target solutions to the search. In our case $n_{solutions} = 1$.\n",
    "\n",
    "ADD REF"
   ]
  },
  {
   "cell_type": "code",
   "execution_count": null,
   "id": "79ebfba0",
   "metadata": {},
   "outputs": [],
   "source": [
    "def grover_iterations(nqubits, nsol=1):\n",
    "    return int((np.pi/4)*np.sqrt((2**nqubits)/nsol))"
   ]
  },
  {
   "cell_type": "code",
   "execution_count": null,
   "id": "0bef2c02",
   "metadata": {},
   "outputs": [],
   "source": [
    "iterations = grover_iterations(3)\n",
    "iterations"
   ]
  },
  {
   "cell_type": "code",
   "execution_count": null,
   "id": "607c62bc",
   "metadata": {},
   "outputs": [],
   "source": [
    "grover = create_grover('101', iterations)\n",
    "plot_amplitudes(grover())"
   ]
  },
  {
   "cell_type": "markdown",
   "id": "1478a281",
   "metadata": {},
   "source": [
    "We can also have a look at the frequencies of measuring each bitstring"
   ]
  },
  {
   "cell_type": "code",
   "execution_count": null,
   "id": "cc32c87e",
   "metadata": {},
   "outputs": [],
   "source": [
    "result = grover(nshots=1000)\n",
    "result.frequencies()"
   ]
  },
  {
   "cell_type": "markdown",
   "id": "3494e54b",
   "metadata": {},
   "source": [
    "## Let's try to run the Grover's algorithm with an increasing number of qubits?"
   ]
  },
  {
   "cell_type": "markdown",
   "id": "46a923d7",
   "metadata": {},
   "source": [
    "How does the perfomance decreases computation wise with a large number of qubits?"
   ]
  },
  {
   "cell_type": "code",
   "execution_count": null,
   "id": "d4648e3c",
   "metadata": {},
   "outputs": [],
   "source": [
    "import time\n",
    "\n",
    "def performance(backend, platform=None, qubit_range=range(4,15)):\n",
    "    set_backend(backend)\n",
    "    times = []\n",
    "    for i in qubit_range:\n",
    "        iterations = grover_iterations(i,1)\n",
    "        print(\"nqubits\", i, end=\"\")\n",
    "        state = \"1\" * i\n",
    "        circuit = create_grover(state, iterations)\n",
    "        start = time.time()\n",
    "        result = circuit(nshots=1000)\n",
    "        end = time.time()\n",
    "        print(f\"\\tTime = {end-start}\")\n",
    "        # Frequency of the target bitstring\n",
    "        freq = result.frequencies().get(i * '1')\n",
    "        print(\"Frequency =\", freq)\n",
    "        times.append(end-start)\n",
    "    \n",
    "    return times, list(qubit_range)\n",
    "\n",
    "def plot_times(qubits, times, title=\"numpy\"):\n",
    "    plt.plot(qubits, times, label=title)\n",
    "    plt.xlabel('Number of qubits', fontsize=14)\n",
    "    plt.ylabel('Time (s)', fontsize=14)\n",
    "    plt.legend()\n",
    "    \n",
    "        "
   ]
  },
  {
   "cell_type": "code",
   "execution_count": null,
   "id": "2d22161b",
   "metadata": {
    "scrolled": true
   },
   "outputs": [],
   "source": [
    "times, qubits = performance(\"numpy\", range(4,20))"
   ]
  },
  {
   "cell_type": "code",
   "execution_count": null,
   "id": "9a406daa",
   "metadata": {},
   "outputs": [],
   "source": [
    "times_qibojit, _ =performance(\"qibojit\", \"numba\", range(4,20))"
   ]
  },
  {
   "cell_type": "code",
   "execution_count": null,
   "id": "f30d99c2",
   "metadata": {},
   "outputs": [],
   "source": [
    "plot_times(qubits, times,\"numpy\")\n",
    "plot_times(qubits, times_qibojit, \"numba\")\n"
   ]
  },
  {
   "cell_type": "code",
   "execution_count": null,
   "id": "08c8e6b5",
   "metadata": {},
   "outputs": [],
   "source": []
  }
 ],
 "metadata": {
  "kernelspec": {
   "display_name": "Python 3 (ipykernel)",
   "language": "python",
   "name": "python3"
  },
  "language_info": {
   "codemirror_mode": {
    "name": "ipython",
    "version": 3
   },
   "file_extension": ".py",
   "mimetype": "text/x-python",
   "name": "python",
   "nbconvert_exporter": "python",
   "pygments_lexer": "ipython3",
   "version": "3.10.6"
  },
  "vscode": {
   "interpreter": {
    "hash": "08193bedc23ae9fb24202011297e0bb2a2994e8ba7d22aea3f01caeba53261bd"
   }
  }
 },
 "nbformat": 4,
 "nbformat_minor": 5
}
