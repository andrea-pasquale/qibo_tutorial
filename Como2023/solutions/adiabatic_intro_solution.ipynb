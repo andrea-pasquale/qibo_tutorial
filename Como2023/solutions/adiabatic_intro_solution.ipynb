{
 "cells": [
  {
   "cell_type": "code",
   "execution_count": null,
   "id": "7c2f17d3",
   "metadata": {},
   "outputs": [],
   "source": [
    "import matplotlib.pyplot as plt\n",
    "import numpy as np\n",
    "\n",
    "from qibo import callbacks, hamiltonians, models, set_backend, gates\n",
    "set_backend(\"numpy\")"
   ]
  },
  {
   "cell_type": "markdown",
   "id": "bbea7271",
   "metadata": {},
   "source": [
    "## Adiabatic Quantum Computing\n",
    "In adiabatic quantum computing (AQC), contrary to the gate model, the computation starts from an initial Hamiltonian $H_0$ with a\n",
    "ground state easy to prepare and we let the system evolve to a final Hamiltonian $H_1$ whose ground state encodes the solution to\n",
    "a computational problem. The Hamiltonian for the system is the following:\n",
    "$$ H(t) = ( 1 - s(t)) H_0 + s(t) H_1 $$\n",
    "\n",
    "where $s(t) : [ 0, t_f ] \\rightarrow [ 0,1]$ is know as the *schedule* and $t_f$ is the smallest time that guarantees\n",
    "that the final state of $H(t)$ is \"closed\" to the ground state of $H_1$.  \n",
    "\n",
    "\n",
    "For more information about AQC you can have a look at this [review](https://arxiv.org/abs/1611.04471)."
   ]
  },
  {
   "cell_type": "markdown",
   "id": "b05cab7b",
   "metadata": {},
   "source": [
    "### First example\n",
    "In this first example we are going to code in Qibo an adiabatic evolution from a non-interacting Pauli-X Hamiltonian $H_X$ to a transverse field Ising model $H_{TFIM}$ which are defined as:\n",
    "\n",
    "$$ H_X = - \\sum_{i=0}^{N} X_i $$\n",
    "$$ H_{TFIM} = - \\sum_{i=0}^{N} (Z_i Z_{i+1} + h X_i) $$\n"
   ]
  },
  {
   "cell_type": "markdown",
   "id": "9c5d033f",
   "metadata": {},
   "source": [
    "Lets start by defining the two hamiltonians. You can find the hamiltonians avialable in Qibo [here](https://qibo.science/qibo/stable/api-reference/qibo.html#hamiltonians)."
   ]
  },
  {
   "cell_type": "code",
   "execution_count": null,
   "id": "d8724290",
   "metadata": {},
   "outputs": [],
   "source": [
    "nqubits = 4\n",
    "hfield = 1\n",
    "h0 = hamiltonians.X(nqubits)\n",
    "h1 = hamiltonians.TFIM(nqubits, h=hfield)"
   ]
  },
  {
   "cell_type": "markdown",
   "id": "d8e4e9df",
   "metadata": {},
   "source": [
    "We can manipulate a Hamiltonian object by asking for:\n",
    "* the [ground state](https://qibo.science/qibo/stable/api-reference/qibo.html#qibo.hamiltonians.abstract.AbstractHamiltonian.ground_state)\n",
    "* the [eigenvectors](https://qibo.science/qibo/stable/api-reference/qibo.html#qibo.hamiltonians.Hamiltonian.eigenvectors)\n",
    "* the [eigenvalues](https://qibo.science/qibo/stable/api-reference/qibo.html#qibo.hamiltonians.Hamiltonian.eigenvalues)\n",
    "* the [expectation](https://qibo.science/qibo/stable/api-reference/qibo.html#qibo.hamiltonians.Hamiltonian.expectation) value of an arbitrary state\n"
   ]
  },
  {
   "cell_type": "markdown",
   "id": "858611f8",
   "metadata": {},
   "source": [
    "## Exercise\n",
    "Check if the expectation value of the ground state is equal to the lowest eigenvalues with Qibo.\n",
    "\n",
    "To check if two arrays are sufficiently close to each other you can use [`np.testing.assert_allclose`](https://numpy.org/doc/stable/reference/generated/numpy.testing.assert_allclose.html)."
   ]
  },
  {
   "cell_type": "code",
   "execution_count": null,
   "id": "5030ce8d",
   "metadata": {},
   "outputs": [],
   "source": [
    "ground_state_energy = np.min(h1.eigenvalues())\n",
    "ground_state = h1.ground_state()\n",
    "ground_state_expectation = h1.expectation(ground_state)\n",
    "np.testing.assert_allclose(ground_state_energy, ground_state_expectation)"
   ]
  },
  {
   "cell_type": "markdown",
   "id": "dd09c96f",
   "metadata": {},
   "source": [
    "We can perform the adiabatic evolution by allocating the [`AdiabaticEvolution`](https://qibo.science/qibo/stable/api-reference/qibo.html#adiabatic-evolution) object. We will start by defining a linear scheduling $s(t) = t$."
   ]
  },
  {
   "cell_type": "code",
   "execution_count": null,
   "id": "b9a582ad",
   "metadata": {},
   "outputs": [],
   "source": [
    "evolution = models.AdiabaticEvolution(\n",
    "    h0, h1, lambda t: t, dt=1e-2, \n",
    ")"
   ]
  },
  {
   "cell_type": "code",
   "execution_count": null,
   "id": "cfbacd7a",
   "metadata": {},
   "outputs": [],
   "source": [
    "final_state = evolution(final_time=10)"
   ]
  },
  {
   "cell_type": "markdown",
   "id": "9ebc2987",
   "metadata": {},
   "source": [
    "We can track some quantities during the evolution by making use of [`Callbacks`](https://qibo.science/qibo/stable/api-reference/qibo.html#callbacks). In our case we might be interesting in tracking the expectation value of $H_1$ and the overlap with its ground state."
   ]
  },
  {
   "cell_type": "code",
   "execution_count": null,
   "id": "f0cb8923",
   "metadata": {},
   "outputs": [],
   "source": [
    "energy = callbacks.Energy(h1)\n",
    "overlap = callbacks.Overlap(ground_state)\n",
    "evolution = models.AdiabaticEvolution(\n",
    "    h0, h1, lambda t: t, dt=1e-1, callbacks=[energy, overlap]\n",
    ")\n",
    "final_psi = evolution(final_time=10)"
   ]
  },
  {
   "cell_type": "code",
   "execution_count": null,
   "id": "9c52f855",
   "metadata": {},
   "outputs": [],
   "source": [
    "def plot_overlaps(T, energy, overlap, ground_state_energy, dt=1e-1):\n",
    "    tt = np.linspace(0, T, int(T / dt) + 1)\n",
    "    plt.figure(figsize=(12, 4))\n",
    "    plt.subplot(121)\n",
    "    plt.plot(tt, energy[-len(tt):], linewidth=2.0, label=\"Evolved state\")\n",
    "    plt.axhline(y=ground_state_energy, color=\"red\", linewidth=2.0, label=\"Ground state\")\n",
    "    plt.xlabel(\"$t$\")\n",
    "    plt.ylabel(\"$H_1$\")\n",
    "    plt.legend()\n",
    "\n",
    "    plt.subplot(122)\n",
    "    plt.plot(tt, overlap[-len(tt):], linewidth=2.0)\n",
    "    plt.xlabel(\"$t$\")\n",
    "    plt.ylabel(\"Overlap\")\n",
    "    plt.show()"
   ]
  },
  {
   "cell_type": "code",
   "execution_count": null,
   "id": "67df827a",
   "metadata": {},
   "outputs": [],
   "source": [
    "\n",
    "plot_overlaps(50, energy, overlap, ground_state_energy)"
   ]
  },
  {
   "cell_type": "markdown",
   "id": "20248bfb",
   "metadata": {},
   "source": [
    "### Scheduling optimization\n",
    "Can we do better than 10 as the final time?\n",
    "\n",
    "We can try to use something more complicated than a linear scaling...\n",
    "\n",
    "We can use a general polynomial scheduler and we can [optimize](https://qibo.science/qibo/stable/api-reference/qibo.html#qibo.models.evolution.AdiabaticEvolution.minimize) the parameters.\n",
    "\n",
    "$$ s(t, p_0, \\dots, p_{n-1}) = \\Big( 1 - \\sum_{i=0}^{n-1} p_i\\Big) t + \\sum_{i=0}^{n-1} p_i t^{i+2}$$"
   ]
  },
  {
   "cell_type": "code",
   "execution_count": null,
   "id": "65e11c78",
   "metadata": {},
   "outputs": [],
   "source": [
    "def spolynomial(t, params):\n",
    "    \"\"\"General polynomial scheduling satisfying s(0)=0 and s(1)=1\"\"\"\n",
    "    f = sum(p * t ** (i + 2) for i, p in enumerate(params))\n",
    "    f += (1 - np.sum(params)) * t\n",
    "    return f"
   ]
  },
  {
   "cell_type": "code",
   "execution_count": null,
   "id": "61c56aed",
   "metadata": {},
   "outputs": [],
   "source": [
    "params = [1,1] # parms[-1] is the total_time\n",
    "energy = callbacks.Energy(h1)\n",
    "overlap = callbacks.Overlap(ground_state)\n",
    "evolution = models.AdiabaticEvolution(h0, h1, spolynomial, dt=1e-2, callbacks=[energy, overlap])\n",
    "best_energy, parameters, _ = evolution.minimize(params)"
   ]
  },
  {
   "cell_type": "code",
   "execution_count": null,
   "id": "af2935b4",
   "metadata": {},
   "outputs": [],
   "source": [
    "T = parameters[-1]\n",
    "final_psi = evolution(T)"
   ]
  },
  {
   "cell_type": "code",
   "execution_count": null,
   "id": "b050f1d5",
   "metadata": {},
   "outputs": [],
   "source": [
    "plot_overlaps(T, energy, overlap, ground_state_energy, dt=1e-2)"
   ]
  },
  {
   "cell_type": "markdown",
   "id": "201bc6f2",
   "metadata": {},
   "source": [
    "## Adiabatic Grover\n",
    "It is possible to develop the Grover algorithm also using AQC.\n",
    "\n",
    "We can denote the marked item by its binary representation $m$. We encode this state in the following Hamiltonian\n",
    "\n",
    "$$H_1 = I - \\ket{m}\\bra{m}$$ \n",
    "\n",
    "The ground state of this Hamiltonian is 0.\n",
    "To set up the adiabatic Grover algorithm we can start from the Hamiltonian $H_0 = I - \\ket{\\phi}\\bra{\\phi}$ where $\\phi$ is the \n",
    "uniform superposition state that we encounter before\n",
    "\n",
    "$$ \\ket{\\phi} = \\frac{1}{\\sqrt{N}} \\sum_{i=0}^{N-1} \\ket{i}$$\n",
    "\n",
    "Therefore we end up with the following time-dependent Hamiltonian\n",
    "\n",
    "$$ H(t) = [ 1 - A(s) ] H_0 + A(s) H_1 = $$\n",
    "\n",
    "where $s = t/t_f$ and $A(s)$ is the scheduler.\n",
    "We can find more about the adiabatic grover algorithm [here](https://arxiv.org/abs/quant-ph/0107015)"
   ]
  },
  {
   "cell_type": "markdown",
   "id": "f66bf700",
   "metadata": {},
   "source": [
    "### Exercise:\n",
    "\n",
    "Write the Adiabatic Grover algorithm (for two qubits) using Qibo first using a linear scheduler and then with an optimized scheduler.\n",
    "Which value of $t_f$ is necessary using a linear scheduler? And with an optimized one?"
   ]
  },
  {
   "cell_type": "code",
   "execution_count": null,
   "id": "682ee59c",
   "metadata": {},
   "outputs": [],
   "source": [
    "nqubits = 2"
   ]
  },
  {
   "cell_type": "code",
   "execution_count": null,
   "id": "a6a9105b",
   "metadata": {},
   "outputs": [],
   "source": [
    "def plus_state(nqubits):\n",
    "    circuit1 = models.Circuit(nqubits)\n",
    "    circuit1.add(gates.H(i) for i in range(nqubits))\n",
    "    state = circuit1().state()\n",
    "    return state\n",
    "\n",
    "def get_density_matrix(state):\n",
    "    return np.outer(state, state)"
   ]
  },
  {
   "cell_type": "code",
   "execution_count": null,
   "id": "2b4ed75d",
   "metadata": {},
   "outputs": [],
   "source": [
    "initial_state = plus_state(nqubits)"
   ]
  },
  {
   "cell_type": "code",
   "execution_count": null,
   "id": "5c28beba",
   "metadata": {},
   "outputs": [],
   "source": [
    "h0 = hamiltonians.Hamiltonian(nqubits, matrix=np.eye(2**nqubits)-get_density_matrix(initial_state))"
   ]
  },
  {
   "cell_type": "code",
   "execution_count": null,
   "id": "0c0ea13c",
   "metadata": {},
   "outputs": [],
   "source": [
    "final_state = np.random.randint(2, size=2**nqubits)\n",
    "h1 = hamiltonians.Hamiltonian(nqubits, matrix=np.eye(2**nqubits) -get_density_matrix(final_state))"
   ]
  },
  {
   "cell_type": "code",
   "execution_count": null,
   "id": "98b6cfe9",
   "metadata": {},
   "outputs": [],
   "source": [
    "# check that H1 is defined correctly\n",
    "target_state = h1.ground_state()\n",
    "target_energy = h1.eigenvalues()[0]\n",
    "state_energy = h1.expectation(target_state)\n",
    "np.testing.assert_allclose(state_energy, target_energy)"
   ]
  },
  {
   "cell_type": "code",
   "execution_count": null,
   "id": "4073d141",
   "metadata": {},
   "outputs": [],
   "source": [
    "energy = callbacks.Energy(h1)\n",
    "overlap = callbacks.Overlap(target_state)\n",
    "T = 100\n",
    "dt = 1e-1\n",
    "evolution = models.AdiabaticEvolution(h0,h1, lambda t :t, dt,callbacks=[energy, overlap])\n",
    "final_psi = evolution(T)"
   ]
  },
  {
   "cell_type": "code",
   "execution_count": null,
   "id": "8e7b5817",
   "metadata": {},
   "outputs": [],
   "source": [
    "plot_overlaps(T, energy, overlap, state_energy)"
   ]
  },
  {
   "cell_type": "markdown",
   "id": "29b525b8",
   "metadata": {},
   "source": [
    "Optmized Scheduler"
   ]
  },
  {
   "cell_type": "code",
   "execution_count": null,
   "id": "3319e7b7",
   "metadata": {},
   "outputs": [],
   "source": [
    "energy = callbacks.Energy(h1)\n",
    "overlap = callbacks.Overlap(target_state)\n",
    "params =[1,1]\n",
    "evolution = models.AdiabaticEvolution(h0, h1, spolynomial, dt=1e-1, callbacks=[energy, overlap])\n",
    "best_energy, parameters, _ = evolution.minimize(\n",
    "    params,\n",
    ")"
   ]
  },
  {
   "cell_type": "code",
   "execution_count": null,
   "id": "639ae8ef",
   "metadata": {},
   "outputs": [],
   "source": [
    "T = 10\n",
    "final_state = evolution(T)"
   ]
  },
  {
   "cell_type": "code",
   "execution_count": null,
   "id": "cf0fc76a",
   "metadata": {},
   "outputs": [],
   "source": [
    "plot_overlaps(T, energy, overlap, state_energy)"
   ]
  },
  {
   "cell_type": "code",
   "execution_count": null,
   "id": "cfed5447",
   "metadata": {},
   "outputs": [],
   "source": []
  },
  {
   "cell_type": "code",
   "execution_count": null,
   "id": "37f0d2e5",
   "metadata": {},
   "outputs": [],
   "source": []
  }
 ],
 "metadata": {
  "kernelspec": {
   "display_name": "Python 3 (ipykernel)",
   "language": "python",
   "name": "python3"
  },
  "language_info": {
   "codemirror_mode": {
    "name": "ipython",
    "version": 3
   },
   "file_extension": ".py",
   "mimetype": "text/x-python",
   "name": "python",
   "nbconvert_exporter": "python",
   "pygments_lexer": "ipython3",
   "version": "3.10.6"
  }
 },
 "nbformat": 4,
 "nbformat_minor": 5
}
