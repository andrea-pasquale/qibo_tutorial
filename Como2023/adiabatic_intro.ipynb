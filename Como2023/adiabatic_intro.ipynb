{
 "cells": [
  {
   "cell_type": "markdown",
   "id": "bbea7271",
   "metadata": {},
   "source": [
    "## Adiabatic Quantum Computing"
   ]
  },
  {
   "cell_type": "code",
   "execution_count": null,
   "id": "7c2f17d3",
   "metadata": {},
   "outputs": [],
   "source": [
    "import matplotlib\n",
    "import matplotlib.pyplot as plt\n",
    "import numpy as np\n",
    "\n",
    "from qibo import callbacks, hamiltonians, models, set_backend, gates\n",
    "set_backend(\"numpy\")"
   ]
  },
  {
   "cell_type": "markdown",
   "id": "b05cab7b",
   "metadata": {},
   "source": [
    "## First example:\n",
    "from X to TFIM"
   ]
  },
  {
   "cell_type": "code",
   "execution_count": null,
   "id": "61845191",
   "metadata": {},
   "outputs": [],
   "source": [
    "nqubits = 4\n",
    "hfield = 1\n",
    "dt = 1e-1\n",
    "solver = \"exp\"\n",
    "T = 10"
   ]
  },
  {
   "cell_type": "code",
   "execution_count": null,
   "id": "8c524279",
   "metadata": {},
   "outputs": [],
   "source": [
    "h0 = hamiltonians.X(nqubits)\n",
    "h1 = hamiltonians.TFIM(nqubits, h=hfield)\n",
    "bac = h1.backend\n",
    "\n",
    "# Calculate target values (H1 ground state)\n",
    "target_state = h1.ground_state()\n",
    "target_energy = bac.to_numpy(h1.eigenvalues()[0]).real\n",
    "\n",
    "# Check ground state\n",
    "state_energy = bac.to_numpy(h1.expectation(target_state)).real\n",
    "np.testing.assert_allclose(state_energy.real, target_energy)\n",
    "\n",
    "energy = callbacks.Energy(h1)\n",
    "overlap = callbacks.Overlap(target_state)\n",
    "evolution = models.AdiabaticEvolution(\n",
    "    h0, h1, lambda t: t, dt=dt, solver=solver, callbacks=[energy, overlap]\n",
    ")\n",
    "final_psi = evolution(final_time=T)\n",
    "# Plots\n",
    "tt = np.linspace(0, T, int(T / dt) + 1)\n",
    "plt.figure(figsize=(12, 4))\n",
    "plt.subplot(121)\n",
    "plt.plot(tt, energy[:], linewidth=2.0, label=\"Evolved state\")\n",
    "plt.axhline(y=target_energy, color=\"red\", linewidth=2.0, label=\"Ground state\")\n",
    "plt.xlabel(\"$t$\")\n",
    "plt.ylabel(\"$H_1$\")\n",
    "plt.legend()\n",
    "\n",
    "plt.subplot(122)\n",
    "plt.plot(tt, overlap[:], linewidth=2.0)\n",
    "plt.xlabel(\"$t$\")\n",
    "plt.ylabel(\"Overlap\")"
   ]
  },
  {
   "cell_type": "markdown",
   "id": "201bc6f2",
   "metadata": {},
   "source": [
    "## Adiabatic Grover"
   ]
  },
  {
   "cell_type": "code",
   "execution_count": null,
   "id": "a6a9105b",
   "metadata": {},
   "outputs": [],
   "source": [
    "from qibo.hamiltonians import Hamiltonian\n",
    "import numpy as np\n",
    "def plus_state(nqubits):\n",
    "    circuit1 = models.Circuit(nqubits)\n",
    "    circuit1.add(gates.H(i) for i in range(nqubits))\n",
    "    state = circuit1().state()\n",
    "    return state\n",
    "\n",
    "def get_density_matrix(state):\n",
    "    return np.outer(state, state)"
   ]
  },
  {
   "cell_type": "code",
   "execution_count": null,
   "id": "682ee59c",
   "metadata": {},
   "outputs": [],
   "source": [
    "nqubits = 4"
   ]
  },
  {
   "cell_type": "code",
   "execution_count": null,
   "id": "2b4ed75d",
   "metadata": {},
   "outputs": [],
   "source": [
    "initial_state = plus_state(nquits)"
   ]
  },
  {
   "cell_type": "code",
   "execution_count": null,
   "id": "5c28beba",
   "metadata": {},
   "outputs": [],
   "source": [
    "h0 = Hamiltonian(nqubits, matrix=np.eye(2**nqubits)-np.outer(state,state))"
   ]
  },
  {
   "cell_type": "code",
   "execution_count": null,
   "id": "0c0ea13c",
   "metadata": {},
   "outputs": [],
   "source": [
    "final_state = np.array([0,1,0,0])\n",
    "h1 = Hamiltonian(2, matrix=np.eye(4) - np.outer(final_state,final_state))"
   ]
  },
  {
   "cell_type": "code",
   "execution_count": null,
   "id": "98b6cfe9",
   "metadata": {},
   "outputs": [],
   "source": [
    "target_state = h1.ground_state()\n",
    "target_energy = h1.eigenvalues()[0]\n",
    "state_energy = h1.expectation(target_state)\n",
    "np.testing.assert_allclose(state_energy, target_energy)"
   ]
  },
  {
   "cell_type": "code",
   "execution_count": null,
   "id": "4073d141",
   "metadata": {},
   "outputs": [],
   "source": [
    "energy_callback = callbacks.Energy(h1)\n",
    "T = 100\n",
    "dt = 1e-1\n",
    "evolution = models.AdiabaticEvolution(h0,h1, lambda t :t, dt,callbacks=[energy_callback])\n",
    "final_psi = evolution(T)"
   ]
  },
  {
   "cell_type": "code",
   "execution_count": null,
   "id": "8e7b5817",
   "metadata": {},
   "outputs": [],
   "source": [
    "tt = np.linspace(0, T, int(T / dt) + 1)\n",
    "plt.figure(figsize=(12, 4))\n",
    "plt.subplot(121)\n",
    "plt.plot(tt, energy_callback[:], linewidth=2.0, label=\"Evolved state\")\n",
    "plt.axhline(y=target_energy, color=\"red\", linewidth=2.0, label=\"Ground state\")\n",
    "plt.xlabel(\"$t$\")\n",
    "plt.ylabel(\"$H_1$\")\n",
    "plt.legend()"
   ]
  },
  {
   "cell_type": "code",
   "execution_count": null,
   "id": "34cafae5",
   "metadata": {},
   "outputs": [],
   "source": [
    "def spolynomial(t, params):\n",
    "    \"\"\"General polynomial scheduling satisfying s(0)=0 and s(1)=1\"\"\"\n",
    "    f = sum(p * t ** (i + 2) for i, p in enumerate(params))\n",
    "    f += (1 - np.sum(params)) * t\n",
    "    return f"
   ]
  },
  {
   "cell_type": "code",
   "execution_count": null,
   "id": "3319e7b7",
   "metadata": {},
   "outputs": [],
   "source": [
    "solver = \"exp\"\n",
    "method = \"Powell\"\n",
    "energy_callback = callbacks.Energy(h1)\n",
    "params =[1,2]\n",
    "evolution = models.AdiabaticEvolution(h0, h1, spolynomial, dt=dt, solver=solver,callbacks=[energy_callback])\n",
    "energy, parameters, _ = evolution.minimize(\n",
    "    params, messages=True\n",
    ")"
   ]
  },
  {
   "cell_type": "code",
   "execution_count": null,
   "id": "639ae8ef",
   "metadata": {},
   "outputs": [],
   "source": [
    "final_state = evolution(parameters[-1])"
   ]
  },
  {
   "cell_type": "code",
   "execution_count": null,
   "id": "cf0fc76a",
   "metadata": {},
   "outputs": [],
   "source": [
    "T = parameters[-1]"
   ]
  },
  {
   "cell_type": "code",
   "execution_count": null,
   "id": "2920f2be",
   "metadata": {},
   "outputs": [],
   "source": [
    "tt = np.linspace(0, T, int(T / dt) + 1)\n",
    "\n",
    "plt.figure(figsize=(12, 4))\n",
    "plt.subplot(121)\n",
    "plt.plot(tt, energy_callback[-len(tt):], linewidth=2.0, label=\"Evolved state\")\n",
    "plt.axhline(y=target_energy, color=\"red\", linewidth=2.0, label=\"Ground state\")\n",
    "plt.xlabel(\"$t$\")\n",
    "plt.ylabel(\"$H_1$\")\n",
    "plt.legend()"
   ]
  },
  {
   "cell_type": "code",
   "execution_count": null,
   "id": "cfed5447",
   "metadata": {},
   "outputs": [],
   "source": []
  },
  {
   "cell_type": "code",
   "execution_count": null,
   "id": "37f0d2e5",
   "metadata": {},
   "outputs": [],
   "source": []
  }
 ],
 "metadata": {
  "kernelspec": {
   "display_name": "Python 3 (ipykernel)",
   "language": "python",
   "name": "python3"
  },
  "language_info": {
   "codemirror_mode": {
    "name": "ipython",
    "version": 3
   },
   "file_extension": ".py",
   "mimetype": "text/x-python",
   "name": "python",
   "nbconvert_exporter": "python",
   "pygments_lexer": "ipython3",
   "version": "3.10.6"
  }
 },
 "nbformat": 4,
 "nbformat_minor": 5
}
