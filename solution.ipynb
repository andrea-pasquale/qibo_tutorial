{
 "cells": [
  {
   "cell_type": "markdown",
   "id": "bc6536c5",
   "metadata": {},
   "source": [
    "## Exercise: Grover's Algorithms\n",
    "Brief description of Grover's algorithm (maybe on the slides?)"
   ]
  },
  {
   "cell_type": "markdown",
   "id": "4b707f53",
   "metadata": {},
   "source": [
    "Package required:"
   ]
  },
  {
   "cell_type": "code",
   "execution_count": null,
   "id": "2139c716",
   "metadata": {},
   "outputs": [],
   "source": [
    "!pip install qibo\n",
    "!pip install qibojit"
   ]
  },
  {
   "cell_type": "markdown",
   "id": "e7ca016f",
   "metadata": {},
   "source": [
    "Check the version"
   ]
  },
  {
   "cell_type": "code",
   "execution_count": null,
   "id": "7256189e",
   "metadata": {},
   "outputs": [],
   "source": [
    "import qibo\n",
    "import qibojit\n",
    "print(qibo.__version__)\n",
    "print(qibojit.__version__)"
   ]
  },
  {
   "cell_type": "markdown",
   "id": "8b4e52f7",
   "metadata": {},
   "source": [
    "Import qibo modules"
   ]
  },
  {
   "cell_type": "code",
   "execution_count": null,
   "id": "b7d0b823",
   "metadata": {},
   "outputs": [],
   "source": [
    "from qibo import models, gates, set_backend\n",
    "set_backend(\"numpy\")\n",
    "from functions import *"
   ]
  },
  {
   "cell_type": "markdown",
   "id": "3b0fd511",
   "metadata": {},
   "source": [
    "### Exercise: Grover's algorithm using Qibo\n",
    "\n",
    "We already saw in the slides that the Grover's algorithm is divided into 3 different parts\n",
    "* Create superposition\n",
    "* Create oracle\n",
    "* Create diffusion operator\n",
    "\n",
    "Assuming that we are looking to find the bistring 111...1 write the corresponding quantum circuit that implements\n",
    "Grover's algorithm."
   ]
  },
  {
   "cell_type": "markdown",
   "id": "2023dfec",
   "metadata": {},
   "source": [
    "#### Step 1: creating the superposition\n",
    "We need to write a circuit that will implement the superposition of all possible states."
   ]
  },
  {
   "cell_type": "code",
   "execution_count": null,
   "id": "d2219c03",
   "metadata": {},
   "outputs": [],
   "source": [
    "def create_superposition(nqubits):\n",
    "    \"\"\"Create circuit for superposition\"\"\"\n",
    "    superposition = models.Circuit(nqubits+1)\n",
    "    for i in range(nqubits):\n",
    "        superposition.add(gates.H(i))\n",
    "    superposition.add(gates.X(nqubits))\n",
    "    superposition.add(gates.H(nqubits))\n",
    "\n",
    "    return superposition\n",
    "    \n"
   ]
  },
  {
   "cell_type": "markdown",
   "id": "9ca2c74f",
   "metadata": {},
   "source": [
    "To check whether the circuit works as expected you can visualize the amplitudes using the function `plot_amplitude`."
   ]
  },
  {
   "cell_type": "code",
   "execution_count": null,
   "id": "410185a0",
   "metadata": {},
   "outputs": [],
   "source": [
    "superposition = create_superposition(3)\n",
    "plot_amplitudes(superposition())"
   ]
  },
  {
   "cell_type": "markdown",
   "id": "3ec71224",
   "metadata": {},
   "source": [
    "### Coding the oracle\n",
    "The oralcle is the operator that changes the sign of the amplitudes of the quantum states that encode solutions of the problem, in our case the state 11.....1\n"
   ]
  },
  {
   "cell_type": "code",
   "execution_count": null,
   "id": "e6e0d137",
   "metadata": {},
   "outputs": [],
   "source": [
    "def create_oracle(nqubits):\n",
    "    \"\"\"Oracle\"\"\"\n",
    "    oracle = Circuit(nqubits+1)\n",
    "    oracle.add(gates.X(nqubits).controlled_by(*range(nqubits)))\n",
    "    return oracle"
   ]
  },
  {
   "cell_type": "markdown",
   "id": "8045d566",
   "metadata": {},
   "source": [
    "Lets check again using the `plot_amplitude` function"
   ]
  },
  {
   "cell_type": "code",
   "execution_count": null,
   "id": "3066fc70",
   "metadata": {},
   "outputs": [],
   "source": [
    "amp = (create_superposition(3)+create_oracle(3))()\n",
    "plot_amplitudes(amp)"
   ]
  },
  {
   "attachments": {},
   "cell_type": "markdown",
   "id": "ff5d8235",
   "metadata": {},
   "source": [
    "### Coding the diffuser\n",
    "To perform the diffusion operator we need to invert anything perpendicular to |s⟩. This can be done using a method similar to the Oracle.\n"
   ]
  },
  {
   "cell_type": "code",
   "execution_count": null,
   "id": "b36e435c",
   "metadata": {},
   "outputs": [],
   "source": [
    "def create_diffuser(nqubits):\n",
    "    diffuser = Circuit(nqubits+1)\n",
    "    for i in range(nqubits):\n",
    "        diffuser.add(gates.H(i))\n",
    "    for i in range(nqubits):\n",
    "        diffuser.add(gates.X(i))\n",
    "    diffuser.add(gates.Z(0).controlled_by(*range(1,nqubits)))\n",
    "    for i in range(nqubits):\n",
    "        diffuser.add(gates.X(i))\n",
    "    for i in range(nqubits):\n",
    "        diffuser.add(gates.H(i))\n",
    "    return diffuser"
   ]
  },
  {
   "cell_type": "code",
   "execution_count": null,
   "id": "361b4676",
   "metadata": {},
   "outputs": [],
   "source": [
    "amp = (create_superposition(3)+create_oracle(3)+create_diffuser(3))()\n",
    "plot_amplitudes(amp)"
   ]
  },
  {
   "cell_type": "code",
   "execution_count": null,
   "id": "79ebfba0",
   "metadata": {},
   "outputs": [],
   "source": [
    "def grover_iterations(qubits, nsol=1):\n",
    "    return int((np.pi/4)*np.sqrt((2**qubits)/nsol))"
   ]
  },
  {
   "cell_type": "code",
   "execution_count": null,
   "id": "8c87ca8d",
   "metadata": {},
   "outputs": [],
   "source": [
    "def create_grover(nqubits, iterations):\n",
    "    grover = models.Circuit(nqubits+1)\n",
    "    superposition = create_superposition(nqubits)\n",
    "    oracle = create_oracle(nqubits)\n",
    "    diffuser = create_diffuser(nqubits)\n",
    "    \n",
    "    grover += superposition\n",
    "    for _ in range(iterations):\n",
    "        grover += oracle + diffuser\n",
    "    grover.add([ gates.M(i) for i in range(nqubits)])\n",
    "    return grover\n",
    "        "
   ]
  },
  {
   "cell_type": "code",
   "execution_count": null,
   "id": "b7adbe0e",
   "metadata": {},
   "outputs": [],
   "source": [
    "grover = create_grover(3, 1)"
   ]
  },
  {
   "cell_type": "code",
   "execution_count": null,
   "id": "607c62bc",
   "metadata": {},
   "outputs": [],
   "source": [
    "plot_amplitudes(grover())"
   ]
  },
  {
   "cell_type": "markdown",
   "id": "1478a281",
   "metadata": {},
   "source": [
    "We can also have a look at the frequencies"
   ]
  },
  {
   "cell_type": "code",
   "execution_count": null,
   "id": "b6ba9603",
   "metadata": {},
   "outputs": [],
   "source": [
    "circuit = create_grover(5,3)"
   ]
  },
  {
   "cell_type": "code",
   "execution_count": null,
   "id": "69d7f693",
   "metadata": {},
   "outputs": [],
   "source": [
    "result = circuit(nshots=1000)"
   ]
  },
  {
   "cell_type": "code",
   "execution_count": null,
   "id": "cc32c87e",
   "metadata": {},
   "outputs": [],
   "source": [
    "result.frequencies()"
   ]
  },
  {
   "cell_type": "markdown",
   "id": "3494e54b",
   "metadata": {},
   "source": [
    "## Lets try to run the Grover's algorithm with an increasing number of qubits?"
   ]
  },
  {
   "cell_type": "code",
   "execution_count": null,
   "id": "92d6f7bf",
   "metadata": {},
   "outputs": [],
   "source": [
    "# Try here"
   ]
  },
  {
   "cell_type": "markdown",
   "id": "46a923d7",
   "metadata": {},
   "source": [
    "Lets run the following benchmark to understand why hardware acceleration is important."
   ]
  },
  {
   "cell_type": "code",
   "execution_count": null,
   "id": "55742941",
   "metadata": {},
   "outputs": [],
   "source": [
    "import time\n",
    "\n",
    "def performance(backend, qubit_range, platform=None):\n",
    "    if platform is None:\n",
    "        set_backend(backend,)\n",
    "    else:\n",
    "        set_backend(backend, platform=platform)\n",
    "    \n",
    "    for i in qubit_range:\n",
    "        iterations = grover_iterations(i,1)\n",
    "    #     print(iterations)\n",
    "        circuit = create_grover(i, iterations)\n",
    "        print(\"Nqubits\", i)\n",
    "        start = time.time()\n",
    "        result = circuit(nshots=1000)\n",
    "        end = time.time()\n",
    "        print(f\"Time = {end-start}\")\n",
    "        print(result.frequencies())"
   ]
  },
  {
   "cell_type": "code",
   "execution_count": null,
   "id": "2d22161b",
   "metadata": {},
   "outputs": [],
   "source": [
    "performance(\"numpy\", range(4,20))"
   ]
  },
  {
   "cell_type": "code",
   "execution_count": null,
   "id": "9a406daa",
   "metadata": {},
   "outputs": [],
   "source": [
    "performance(\"qibojit\", range(4,20),\"numba\")"
   ]
  },
  {
   "cell_type": "code",
   "execution_count": null,
   "id": "a87f1b14",
   "metadata": {},
   "outputs": [],
   "source": [
    "performance(\"qibojit\", range(4,20),\"cupy\")"
   ]
  },
  {
   "cell_type": "code",
   "execution_count": null,
   "id": "fcb38d07",
   "metadata": {},
   "outputs": [],
   "source": [
    "performance(\"qibojit\", range(4,20),\"cuquantum\")"
   ]
  },
  {
   "cell_type": "code",
   "execution_count": null,
   "id": "f30d99c2",
   "metadata": {},
   "outputs": [],
   "source": []
  }
 ],
 "metadata": {
  "kernelspec": {
   "display_name": "Python 3 (ipykernel)",
   "language": "python",
   "name": "python3"
  },
  "language_info": {
   "codemirror_mode": {
    "name": "ipython",
    "version": 3
   },
   "file_extension": ".py",
   "mimetype": "text/x-python",
   "name": "python",
   "nbconvert_exporter": "python",
   "pygments_lexer": "ipython3",
   "version": "3.9.13"
  }
 },
 "nbformat": 4,
 "nbformat_minor": 5
}
