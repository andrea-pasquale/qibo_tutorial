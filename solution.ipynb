{
 "cells": [
  {
   "cell_type": "code",
   "execution_count": 3,
   "id": "96a9decc",
   "metadata": {},
   "outputs": [
    {
     "name": "stdout",
     "output_type": "stream",
     "text": [
      "Requirement already satisfied: numpy in /home/andrea/miniconda3/envs/test1/lib/python3.9/site-packages (1.23.5)\n",
      "Collecting matplotlib\n",
      "  Downloading matplotlib-3.6.2-cp39-cp39-manylinux_2_17_x86_64.manylinux2014_x86_64.whl (11.8 MB)\n",
      "\u001b[2K     \u001b[38;2;114;156;31m━━━━━━━━━━━━━━━━━━━━━━━━━━━━━━━━━━━━━━━━\u001b[0m \u001b[32m11.8/11.8 MB\u001b[0m \u001b[31m64.8 MB/s\u001b[0m eta \u001b[36m0:00:00\u001b[0mm eta \u001b[36m0:00:01\u001b[0m36m0:00:01\u001b[0m\n",
      "\u001b[?25hCollecting cycler>=0.10\n",
      "  Using cached cycler-0.11.0-py3-none-any.whl (6.4 kB)\n",
      "Requirement already satisfied: pyparsing>=2.2.1 in /home/andrea/miniconda3/envs/test1/lib/python3.9/site-packages (from matplotlib) (3.0.9)\n",
      "Requirement already satisfied: python-dateutil>=2.7 in /home/andrea/miniconda3/envs/test1/lib/python3.9/site-packages (from matplotlib) (2.8.2)\n",
      "Collecting contourpy>=1.0.1\n",
      "  Downloading contourpy-1.0.6-cp39-cp39-manylinux_2_17_x86_64.manylinux2014_x86_64.whl (296 kB)\n",
      "\u001b[2K     \u001b[38;2;114;156;31m━━━━━━━━━━━━━━━━━━━━━━━━━━━━━━━━━━━━━━\u001b[0m \u001b[32m296.3/296.3 kB\u001b[0m \u001b[31m25.6 MB/s\u001b[0m eta \u001b[36m0:00:00\u001b[0m\n",
      "\u001b[?25hRequirement already satisfied: numpy>=1.19 in /home/andrea/miniconda3/envs/test1/lib/python3.9/site-packages (from matplotlib) (1.23.5)\n",
      "Collecting fonttools>=4.22.0\n",
      "  Using cached fonttools-4.38.0-py3-none-any.whl (965 kB)\n",
      "Collecting pillow>=6.2.0\n",
      "  Downloading Pillow-9.3.0-cp39-cp39-manylinux_2_28_x86_64.whl (3.3 MB)\n",
      "\u001b[2K     \u001b[38;2;114;156;31m━━━━━━━━━━━━━━━━━━━━━━━━━━━━━━━━━━━━━━━━\u001b[0m \u001b[32m3.3/3.3 MB\u001b[0m \u001b[31m76.2 MB/s\u001b[0m eta \u001b[36m0:00:00\u001b[0m0m eta \u001b[36m0:00:01\u001b[0m\n",
      "\u001b[?25hCollecting kiwisolver>=1.0.1\n",
      "  Using cached kiwisolver-1.4.4-cp39-cp39-manylinux_2_12_x86_64.manylinux2010_x86_64.whl (1.6 MB)\n",
      "Requirement already satisfied: packaging>=20.0 in /home/andrea/miniconda3/envs/test1/lib/python3.9/site-packages (from matplotlib) (21.3)\n",
      "Requirement already satisfied: six>=1.5 in /home/andrea/miniconda3/envs/test1/lib/python3.9/site-packages (from python-dateutil>=2.7->matplotlib) (1.16.0)\n",
      "Installing collected packages: pillow, kiwisolver, fonttools, cycler, contourpy, matplotlib\n",
      "Successfully installed contourpy-1.0.6 cycler-0.11.0 fonttools-4.38.0 kiwisolver-1.4.4 matplotlib-3.6.2 pillow-9.3.0\n"
     ]
    }
   ],
   "source": [
    "!pip install numpy\n",
    "!pip install matplotlib\n",
    "import numpy as np\n",
    "import matplotlib.pyplot as plt"
   ]
  },
  {
   "cell_type": "markdown",
   "id": "bc6536c5",
   "metadata": {},
   "source": [
    "## Exercise: Grover's Algorithms\n",
    "Brief description of Grover's algorithm (maybe on the slides?)"
   ]
  },
  {
   "cell_type": "markdown",
   "id": "4b707f53",
   "metadata": {},
   "source": [
    "Package required:"
   ]
  },
  {
   "cell_type": "code",
   "execution_count": 4,
   "id": "2139c716",
   "metadata": {},
   "outputs": [
    {
     "name": "stdout",
     "output_type": "stream",
     "text": [
      "Collecting qibo\n",
      "  Downloading qibo-0.1.9-py3-none-any.whl (202 kB)\n",
      "\u001b[2K     \u001b[38;2;114;156;31m━━━━━━━━━━━━━━━━━━━━━━━━━━━━━━━━━━━━━━━\u001b[0m \u001b[32m202.6/202.6 kB\u001b[0m \u001b[31m7.0 MB/s\u001b[0m eta \u001b[36m0:00:00\u001b[0m\n",
      "\u001b[?25hCollecting cma\n",
      "  Using cached cma-3.2.2-py2.py3-none-any.whl (249 kB)\n",
      "Collecting sympy\n",
      "  Using cached sympy-1.11.1-py3-none-any.whl (6.5 MB)\n",
      "Requirement already satisfied: psutil in /home/andrea/miniconda3/envs/test1/lib/python3.9/site-packages (from qibo) (5.9.4)\n",
      "Collecting joblib\n",
      "  Using cached joblib-1.2.0-py3-none-any.whl (297 kB)\n",
      "Requirement already satisfied: importlib-metadata in /home/andrea/miniconda3/envs/test1/lib/python3.9/site-packages (from qibo) (5.0.0)\n",
      "Collecting pyyaml\n",
      "  Using cached PyYAML-6.0-cp39-cp39-manylinux_2_5_x86_64.manylinux1_x86_64.manylinux_2_12_x86_64.manylinux2010_x86_64.whl (661 kB)\n",
      "Collecting scipy\n",
      "  Using cached scipy-1.9.3-cp39-cp39-manylinux_2_17_x86_64.manylinux2014_x86_64.whl (33.8 MB)\n",
      "Requirement already satisfied: matplotlib in /home/andrea/miniconda3/envs/test1/lib/python3.9/site-packages (from qibo) (3.6.2)\n",
      "Collecting tabulate\n",
      "  Using cached tabulate-0.9.0-py3-none-any.whl (35 kB)\n",
      "Requirement already satisfied: numpy in /home/andrea/miniconda3/envs/test1/lib/python3.9/site-packages (from cma->qibo) (1.23.5)\n",
      "Requirement already satisfied: zipp>=0.5 in /home/andrea/miniconda3/envs/test1/lib/python3.9/site-packages (from importlib-metadata->qibo) (3.10.0)\n",
      "Requirement already satisfied: python-dateutil>=2.7 in /home/andrea/miniconda3/envs/test1/lib/python3.9/site-packages (from matplotlib->qibo) (2.8.2)\n",
      "Requirement already satisfied: fonttools>=4.22.0 in /home/andrea/miniconda3/envs/test1/lib/python3.9/site-packages (from matplotlib->qibo) (4.38.0)\n",
      "Requirement already satisfied: pillow>=6.2.0 in /home/andrea/miniconda3/envs/test1/lib/python3.9/site-packages (from matplotlib->qibo) (9.3.0)\n",
      "Requirement already satisfied: kiwisolver>=1.0.1 in /home/andrea/miniconda3/envs/test1/lib/python3.9/site-packages (from matplotlib->qibo) (1.4.4)\n",
      "Requirement already satisfied: contourpy>=1.0.1 in /home/andrea/miniconda3/envs/test1/lib/python3.9/site-packages (from matplotlib->qibo) (1.0.6)\n",
      "Requirement already satisfied: pyparsing>=2.2.1 in /home/andrea/miniconda3/envs/test1/lib/python3.9/site-packages (from matplotlib->qibo) (3.0.9)\n",
      "Requirement already satisfied: cycler>=0.10 in /home/andrea/miniconda3/envs/test1/lib/python3.9/site-packages (from matplotlib->qibo) (0.11.0)\n",
      "Requirement already satisfied: packaging>=20.0 in /home/andrea/miniconda3/envs/test1/lib/python3.9/site-packages (from matplotlib->qibo) (21.3)\n",
      "Collecting mpmath>=0.19\n",
      "  Using cached mpmath-1.2.1-py3-none-any.whl (532 kB)\n",
      "Requirement already satisfied: six>=1.5 in /home/andrea/miniconda3/envs/test1/lib/python3.9/site-packages (from python-dateutil>=2.7->matplotlib->qibo) (1.16.0)\n",
      "Installing collected packages: mpmath, tabulate, sympy, scipy, pyyaml, joblib, cma, qibo\n",
      "Successfully installed cma-3.2.2 joblib-1.2.0 mpmath-1.2.1 pyyaml-6.0 qibo-0.1.9 scipy-1.9.3 sympy-1.11.1 tabulate-0.9.0\n",
      "Collecting qibojit\n",
      "  Using cached qibojit-0.0.6-py3-none-any.whl (29 kB)\n",
      "Collecting numba>=0.51.0\n",
      "  Using cached numba-0.56.4-cp39-cp39-manylinux2014_x86_64.manylinux_2_17_x86_64.whl (3.5 MB)\n",
      "Requirement already satisfied: scipy in /home/andrea/miniconda3/envs/test1/lib/python3.9/site-packages (from qibojit) (1.9.3)\n",
      "Requirement already satisfied: psutil in /home/andrea/miniconda3/envs/test1/lib/python3.9/site-packages (from qibojit) (5.9.4)\n",
      "Requirement already satisfied: qibo>0.1.8 in /home/andrea/miniconda3/envs/test1/lib/python3.9/site-packages (from qibojit) (0.1.9)\n",
      "Requirement already satisfied: setuptools in /home/andrea/miniconda3/envs/test1/lib/python3.9/site-packages (from numba>=0.51.0->qibojit) (65.5.1)\n",
      "Collecting llvmlite<0.40,>=0.39.0dev0\n",
      "  Using cached llvmlite-0.39.1-cp39-cp39-manylinux_2_17_x86_64.manylinux2014_x86_64.whl (34.6 MB)\n",
      "Requirement already satisfied: numpy<1.24,>=1.18 in /home/andrea/miniconda3/envs/test1/lib/python3.9/site-packages (from numba>=0.51.0->qibojit) (1.23.5)\n",
      "Requirement already satisfied: importlib-metadata in /home/andrea/miniconda3/envs/test1/lib/python3.9/site-packages (from qibo>0.1.8->qibojit) (5.0.0)\n",
      "Requirement already satisfied: matplotlib in /home/andrea/miniconda3/envs/test1/lib/python3.9/site-packages (from qibo>0.1.8->qibojit) (3.6.2)\n",
      "Requirement already satisfied: sympy in /home/andrea/miniconda3/envs/test1/lib/python3.9/site-packages (from qibo>0.1.8->qibojit) (1.11.1)\n",
      "Requirement already satisfied: pyyaml in /home/andrea/miniconda3/envs/test1/lib/python3.9/site-packages (from qibo>0.1.8->qibojit) (6.0)\n",
      "Requirement already satisfied: joblib in /home/andrea/miniconda3/envs/test1/lib/python3.9/site-packages (from qibo>0.1.8->qibojit) (1.2.0)\n",
      "Requirement already satisfied: cma in /home/andrea/miniconda3/envs/test1/lib/python3.9/site-packages (from qibo>0.1.8->qibojit) (3.2.2)\n",
      "Requirement already satisfied: tabulate in /home/andrea/miniconda3/envs/test1/lib/python3.9/site-packages (from qibo>0.1.8->qibojit) (0.9.0)\n",
      "Requirement already satisfied: zipp>=0.5 in /home/andrea/miniconda3/envs/test1/lib/python3.9/site-packages (from importlib-metadata->qibo>0.1.8->qibojit) (3.10.0)\n",
      "Requirement already satisfied: cycler>=0.10 in /home/andrea/miniconda3/envs/test1/lib/python3.9/site-packages (from matplotlib->qibo>0.1.8->qibojit) (0.11.0)\n",
      "Requirement already satisfied: contourpy>=1.0.1 in /home/andrea/miniconda3/envs/test1/lib/python3.9/site-packages (from matplotlib->qibo>0.1.8->qibojit) (1.0.6)\n",
      "Requirement already satisfied: pillow>=6.2.0 in /home/andrea/miniconda3/envs/test1/lib/python3.9/site-packages (from matplotlib->qibo>0.1.8->qibojit) (9.3.0)\n",
      "Requirement already satisfied: pyparsing>=2.2.1 in /home/andrea/miniconda3/envs/test1/lib/python3.9/site-packages (from matplotlib->qibo>0.1.8->qibojit) (3.0.9)\n",
      "Requirement already satisfied: kiwisolver>=1.0.1 in /home/andrea/miniconda3/envs/test1/lib/python3.9/site-packages (from matplotlib->qibo>0.1.8->qibojit) (1.4.4)\n",
      "Requirement already satisfied: fonttools>=4.22.0 in /home/andrea/miniconda3/envs/test1/lib/python3.9/site-packages (from matplotlib->qibo>0.1.8->qibojit) (4.38.0)\n",
      "Requirement already satisfied: python-dateutil>=2.7 in /home/andrea/miniconda3/envs/test1/lib/python3.9/site-packages (from matplotlib->qibo>0.1.8->qibojit) (2.8.2)\n",
      "Requirement already satisfied: packaging>=20.0 in /home/andrea/miniconda3/envs/test1/lib/python3.9/site-packages (from matplotlib->qibo>0.1.8->qibojit) (21.3)\n",
      "Requirement already satisfied: mpmath>=0.19 in /home/andrea/miniconda3/envs/test1/lib/python3.9/site-packages (from sympy->qibo>0.1.8->qibojit) (1.2.1)\n",
      "Requirement already satisfied: six>=1.5 in /home/andrea/miniconda3/envs/test1/lib/python3.9/site-packages (from python-dateutil>=2.7->matplotlib->qibo>0.1.8->qibojit) (1.16.0)\n",
      "Installing collected packages: llvmlite, numba, qibojit\n",
      "Successfully installed llvmlite-0.39.1 numba-0.56.4 qibojit-0.0.6\n",
      "Collecting tensorflow\n",
      "  Using cached tensorflow-2.11.0-cp39-cp39-manylinux_2_17_x86_64.manylinux2014_x86_64.whl (588.3 MB)\n",
      "Collecting gast<=0.4.0,>=0.2.1\n",
      "  Using cached gast-0.4.0-py3-none-any.whl (9.8 kB)\n",
      "Collecting google-pasta>=0.1.1\n",
      "  Using cached google_pasta-0.2.0-py3-none-any.whl (57 kB)\n",
      "Collecting tensorflow-estimator<2.12,>=2.11.0\n",
      "  Using cached tensorflow_estimator-2.11.0-py2.py3-none-any.whl (439 kB)\n",
      "Collecting protobuf<3.20,>=3.9.2\n",
      "  Using cached protobuf-3.19.6-cp39-cp39-manylinux_2_17_x86_64.manylinux2014_x86_64.whl (1.1 MB)\n",
      "Collecting grpcio<2.0,>=1.24.3\n",
      "  Using cached grpcio-1.51.0-cp39-cp39-manylinux_2_17_x86_64.manylinux2014_x86_64.whl (4.8 MB)\n",
      "Collecting h5py>=2.9.0\n",
      "  Using cached h5py-3.7.0-cp39-cp39-manylinux_2_12_x86_64.manylinux2010_x86_64.whl (4.5 MB)\n",
      "Collecting astunparse>=1.6.0\n",
      "  Using cached astunparse-1.6.3-py2.py3-none-any.whl (12 kB)\n",
      "Collecting flatbuffers>=2.0\n",
      "  Using cached flatbuffers-22.10.26-py2.py3-none-any.whl (26 kB)\n",
      "Collecting opt-einsum>=2.3.2\n",
      "  Using cached opt_einsum-3.3.0-py3-none-any.whl (65 kB)\n",
      "Requirement already satisfied: six>=1.12.0 in /home/andrea/miniconda3/envs/test1/lib/python3.9/site-packages (from tensorflow) (1.16.0)\n",
      "Collecting termcolor>=1.1.0\n",
      "  Using cached termcolor-2.1.1-py3-none-any.whl (6.2 kB)\n"
     ]
    },
    {
     "name": "stdout",
     "output_type": "stream",
     "text": [
      "Collecting wrapt>=1.11.0\n",
      "  Using cached wrapt-1.14.1-cp39-cp39-manylinux_2_5_x86_64.manylinux1_x86_64.manylinux_2_17_x86_64.manylinux2014_x86_64.whl (77 kB)\n",
      "Collecting keras<2.12,>=2.11.0\n",
      "  Using cached keras-2.11.0-py2.py3-none-any.whl (1.7 MB)\n",
      "Requirement already satisfied: numpy>=1.20 in /home/andrea/miniconda3/envs/test1/lib/python3.9/site-packages (from tensorflow) (1.23.5)\n",
      "Collecting typing-extensions>=3.6.6\n",
      "  Using cached typing_extensions-4.4.0-py3-none-any.whl (26 kB)\n",
      "Requirement already satisfied: setuptools in /home/andrea/miniconda3/envs/test1/lib/python3.9/site-packages (from tensorflow) (65.5.1)\n",
      "Collecting tensorflow-io-gcs-filesystem>=0.23.1\n",
      "  Using cached tensorflow_io_gcs_filesystem-0.28.0-cp39-cp39-manylinux_2_12_x86_64.manylinux2010_x86_64.whl (2.4 MB)\n",
      "Collecting tensorboard<2.12,>=2.11\n",
      "  Using cached tensorboard-2.11.0-py3-none-any.whl (6.0 MB)\n",
      "Requirement already satisfied: packaging in /home/andrea/miniconda3/envs/test1/lib/python3.9/site-packages (from tensorflow) (21.3)\n",
      "Collecting libclang>=13.0.0\n",
      "  Using cached libclang-14.0.6-py2.py3-none-manylinux2010_x86_64.whl (14.1 MB)\n",
      "Collecting absl-py>=1.0.0\n",
      "  Using cached absl_py-1.3.0-py3-none-any.whl (124 kB)\n",
      "Requirement already satisfied: wheel<1.0,>=0.23.0 in /home/andrea/miniconda3/envs/test1/lib/python3.9/site-packages (from astunparse>=1.6.0->tensorflow) (0.38.4)\n",
      "Collecting markdown>=2.6.8\n",
      "  Using cached Markdown-3.4.1-py3-none-any.whl (93 kB)\n",
      "Collecting werkzeug>=1.0.1\n",
      "  Using cached Werkzeug-2.2.2-py3-none-any.whl (232 kB)\n",
      "Collecting google-auth-oauthlib<0.5,>=0.4.1\n",
      "  Using cached google_auth_oauthlib-0.4.6-py2.py3-none-any.whl (18 kB)\n",
      "Collecting tensorboard-plugin-wit>=1.6.0\n",
      "  Using cached tensorboard_plugin_wit-1.8.1-py3-none-any.whl (781 kB)\n",
      "Collecting requests<3,>=2.21.0\n",
      "  Using cached requests-2.28.1-py3-none-any.whl (62 kB)\n",
      "Collecting google-auth<3,>=1.6.3\n",
      "  Using cached google_auth-2.14.1-py2.py3-none-any.whl (175 kB)\n",
      "Collecting tensorboard-data-server<0.7.0,>=0.6.0\n",
      "  Using cached tensorboard_data_server-0.6.1-py3-none-manylinux2010_x86_64.whl (4.9 MB)\n",
      "Requirement already satisfied: pyparsing!=3.0.5,>=2.0.2 in /home/andrea/miniconda3/envs/test1/lib/python3.9/site-packages (from packaging->tensorflow) (3.0.9)\n",
      "Collecting cachetools<6.0,>=2.0.0\n",
      "  Using cached cachetools-5.2.0-py3-none-any.whl (9.3 kB)\n",
      "Collecting pyasn1-modules>=0.2.1\n",
      "  Using cached pyasn1_modules-0.2.8-py2.py3-none-any.whl (155 kB)\n",
      "Collecting rsa<5,>=3.1.4\n",
      "  Using cached rsa-4.9-py3-none-any.whl (34 kB)\n",
      "Collecting requests-oauthlib>=0.7.0\n",
      "  Using cached requests_oauthlib-1.3.1-py2.py3-none-any.whl (23 kB)\n",
      "Requirement already satisfied: importlib-metadata>=4.4 in /home/andrea/miniconda3/envs/test1/lib/python3.9/site-packages (from markdown>=2.6.8->tensorboard<2.12,>=2.11->tensorflow) (5.0.0)\n",
      "Collecting urllib3<1.27,>=1.21.1\n",
      "  Using cached urllib3-1.26.12-py2.py3-none-any.whl (140 kB)\n",
      "Collecting certifi>=2017.4.17\n",
      "  Using cached certifi-2022.9.24-py3-none-any.whl (161 kB)\n",
      "Requirement already satisfied: idna<4,>=2.5 in /home/andrea/miniconda3/envs/test1/lib/python3.9/site-packages (from requests<3,>=2.21.0->tensorboard<2.12,>=2.11->tensorflow) (3.4)\n",
      "Collecting charset-normalizer<3,>=2\n",
      "  Using cached charset_normalizer-2.1.1-py3-none-any.whl (39 kB)\n",
      "Requirement already satisfied: MarkupSafe>=2.1.1 in /home/andrea/miniconda3/envs/test1/lib/python3.9/site-packages (from werkzeug>=1.0.1->tensorboard<2.12,>=2.11->tensorflow) (2.1.1)\n",
      "Requirement already satisfied: zipp>=0.5 in /home/andrea/miniconda3/envs/test1/lib/python3.9/site-packages (from importlib-metadata>=4.4->markdown>=2.6.8->tensorboard<2.12,>=2.11->tensorflow) (3.10.0)\n",
      "Collecting pyasn1<0.5.0,>=0.4.6\n",
      "  Using cached pyasn1-0.4.8-py2.py3-none-any.whl (77 kB)\n",
      "Collecting oauthlib>=3.0.0\n",
      "  Using cached oauthlib-3.2.2-py3-none-any.whl (151 kB)\n",
      "Installing collected packages: tensorboard-plugin-wit, pyasn1, libclang, flatbuffers, wrapt, werkzeug, urllib3, typing-extensions, termcolor, tensorflow-io-gcs-filesystem, tensorflow-estimator, tensorboard-data-server, rsa, pyasn1-modules, protobuf, opt-einsum, oauthlib, keras, h5py, grpcio, google-pasta, gast, charset-normalizer, certifi, cachetools, astunparse, absl-py, requests, markdown, google-auth, requests-oauthlib, google-auth-oauthlib, tensorboard, tensorflow\n",
      "Successfully installed absl-py-1.3.0 astunparse-1.6.3 cachetools-5.2.0 certifi-2022.9.24 charset-normalizer-2.1.1 flatbuffers-22.10.26 gast-0.4.0 google-auth-2.14.1 google-auth-oauthlib-0.4.6 google-pasta-0.2.0 grpcio-1.51.0 h5py-3.7.0 keras-2.11.0 libclang-14.0.6 markdown-3.4.1 oauthlib-3.2.2 opt-einsum-3.3.0 protobuf-3.19.6 pyasn1-0.4.8 pyasn1-modules-0.2.8 requests-2.28.1 requests-oauthlib-1.3.1 rsa-4.9 tensorboard-2.11.0 tensorboard-data-server-0.6.1 tensorboard-plugin-wit-1.8.1 tensorflow-2.11.0 tensorflow-estimator-2.11.0 tensorflow-io-gcs-filesystem-0.28.0 termcolor-2.1.1 typing-extensions-4.4.0 urllib3-1.26.12 werkzeug-2.2.2 wrapt-1.14.1\n"
     ]
    }
   ],
   "source": [
    "!pip install qibo\n",
    "!pip install qibojit\n",
    "!pip install tensorflow"
   ]
  },
  {
   "cell_type": "markdown",
   "id": "e7ca016f",
   "metadata": {},
   "source": [
    "Check the version"
   ]
  },
  {
   "cell_type": "code",
   "execution_count": 5,
   "id": "7256189e",
   "metadata": {},
   "outputs": [
    {
     "name": "stdout",
     "output_type": "stream",
     "text": [
      "0.1.9\n",
      "0.0.6\n"
     ]
    }
   ],
   "source": [
    "import qibo\n",
    "import qibojit\n",
    "print(qibo.__version__)\n",
    "print(qibojit.__version__)"
   ]
  },
  {
   "cell_type": "markdown",
   "id": "8b4e52f7",
   "metadata": {},
   "source": [
    "Import qibo modules"
   ]
  },
  {
   "cell_type": "code",
   "execution_count": 6,
   "id": "b7d0b823",
   "metadata": {},
   "outputs": [
    {
     "name": "stderr",
     "output_type": "stream",
     "text": [
      "[Qibo 0.1.9|INFO|2022-11-22 15:31:16]: Using numpy backend on /CPU:0\n"
     ]
    }
   ],
   "source": [
    "from qibo import models, gates, set_backend\n",
    "set_backend(\"numpy\")"
   ]
  },
  {
   "cell_type": "markdown",
   "id": "3b0fd511",
   "metadata": {},
   "source": [
    "### Exercise: Grover's algorithm using Qibo\n",
    "\n",
    "We already saw in the slides that the Grover's algorithm is divided into 3 different parts\n",
    "* Create superposition\n",
    "* Create oracle\n",
    "* Create diffusion operator\n",
    "\n",
    "Assuming that we are looking to find the bistring 111...1 write the corresponding quantum circuit that implements\n",
    "Grover's algorithm."
   ]
  },
  {
   "cell_type": "markdown",
   "id": "2023dfec",
   "metadata": {},
   "source": [
    "#### Step 1: creating the superposition\n",
    "We need to write a circuit that will implement the superposition of all possible states."
   ]
  },
  {
   "cell_type": "code",
   "execution_count": 7,
   "id": "d2219c03",
   "metadata": {},
   "outputs": [],
   "source": [
    "def create_superposition(nqubits):\n",
    "    \"\"\"Create circuit for superposition\"\"\"\n",
    "    superposition = models.Circuit(nqubits+1)\n",
    "    for i in range(nqubits):\n",
    "        superposition.add(gates.H(i))\n",
    "    superposition.add(gates.X(nqubits))\n",
    "    superposition.add(gates.H(nqubits))\n",
    "\n",
    "    return superposition"
   ]
  },
  {
   "cell_type": "markdown",
   "id": "bb75573a",
   "metadata": {},
   "source": [
    "You can check the gates in the circuit by drawing it"
   ]
  },
  {
   "cell_type": "code",
   "execution_count": 8,
   "id": "33e0df47",
   "metadata": {},
   "outputs": [
    {
     "name": "stdout",
     "output_type": "stream",
     "text": [
      "q0: ─H───\n",
      "q1: ─H───\n",
      "q2: ─H───\n",
      "q3: ─X─H─\n"
     ]
    }
   ],
   "source": [
    "superposition = create_superposition(3)\n",
    "print(superposition.draw())"
   ]
  },
  {
   "cell_type": "markdown",
   "id": "9ca2c74f",
   "metadata": {},
   "source": [
    "To check whether the circuit works as expected you can visualize the amplitudes using the function `plot_amplitude`."
   ]
  },
  {
   "cell_type": "code",
   "execution_count": 9,
   "id": "16d6b61f",
   "metadata": {},
   "outputs": [],
   "source": [
    "def plot_amplitudes(amplitudes, p=False):\n",
    "    \"\"\"Plot amplitudes of the quantum circuit\"\"\"\n",
    "    amplitudes = amplitudes.state()\n",
    "    states = []\n",
    "    amp = []\n",
    "    for i in range(int(len(amplitudes)/2)):\n",
    "        states.append(\"{0:0{bits}b}\".format(i, bits=int(np.log2(len(amplitudes)/2))))\n",
    "    for i in range(0, len(amplitudes), 2):\n",
    "        amp.append((1/np.sqrt(2))*(np.real(amplitudes[i])-np.real(amplitudes[i+1])))\n",
    "    if p:\n",
    "        print(amp)\n",
    "    fig = plt.figure(figsize = (18,6))\n",
    "    width = 0.5\n",
    "    plt.title('Amplitudes', fontdict={'fontsize': 14})\n",
    "    plt.xlabel('state', fontsize=14)\n",
    "    plt.ylabel('magnitude', fontsize=14)\n",
    "    plt.ylim(-1.1,1.1)\n",
    "    plt.bar(states, amp, color='C0', width=width)\n",
    "    plt.grid()\n",
    "    plt.show()"
   ]
  },
  {
   "cell_type": "code",
   "execution_count": 10,
   "id": "410185a0",
   "metadata": {},
   "outputs": [
    {
     "data": {
      "image/png": "[encoded data removed]",
      "text/plain": [
       "<Figure size 1800x600 with 1 Axes>"
      ]
     },
     "metadata": {},
     "output_type": "display_data"
    }
   ],
   "source": [
    "result = superposition()\n",
    "plot_amplitudes(result)"
   ]
  },
  {
   "cell_type": "markdown",
   "id": "3ec71224",
   "metadata": {},
   "source": [
    "### Coding the oracle\n",
    "The oralcle is the operator that changes the sign of the amplitudes of the quantum states that encode solutions of the problem, in our case the state 11.....1\n"
   ]
  },
  {
   "cell_type": "code",
   "execution_count": 11,
   "id": "e6e0d137",
   "metadata": {},
   "outputs": [],
   "source": [
    "def create_oracle(nqubits):\n",
    "    \"\"\"Oracle\"\"\"\n",
    "    oracle = models.Circuit(nqubits+1)\n",
    "    oracle.add(gates.X(nqubits).controlled_by(*range(nqubits)))\n",
    "    return oracle"
   ]
  },
  {
   "cell_type": "markdown",
   "id": "276eddaa",
   "metadata": {},
   "source": [
    "Note the use of `gate.controlled_by` method which allows to control any gate to an arbitrary number of qubits"
   ]
  },
  {
   "cell_type": "code",
   "execution_count": 12,
   "id": "511ab2b3",
   "metadata": {},
   "outputs": [
    {
     "name": "stdout",
     "output_type": "stream",
     "text": [
      "q0: ─o─\n",
      "q1: ─o─\n",
      "q2: ─o─\n",
      "q3: ─X─\n"
     ]
    }
   ],
   "source": [
    "oracle = create_oracle(3)\n",
    "print(oracle.draw())"
   ]
  },
  {
   "cell_type": "markdown",
   "id": "8045d566",
   "metadata": {},
   "source": [
    "Lets check again the final amplitudes after creating the superposition and applying the oracle. \n",
    "\n",
    "First we create the total circuit"
   ]
  },
  {
   "cell_type": "code",
   "execution_count": 13,
   "id": "3066fc70",
   "metadata": {},
   "outputs": [
    {
     "name": "stdout",
     "output_type": "stream",
     "text": [
      "q0: ─H───o─\n",
      "q1: ─H───o─\n",
      "q2: ─H───o─\n",
      "q3: ─X─H─X─\n"
     ]
    }
   ],
   "source": [
    "circuit = superposition + oracle\n",
    "print(circuit.draw())"
   ]
  },
  {
   "cell_type": "markdown",
   "id": "38867ab1",
   "metadata": {},
   "source": [
    "and then we plot the final amplitudes using the functon `plot_amplitude`"
   ]
  },
  {
   "cell_type": "code",
   "execution_count": 14,
   "id": "9419944f",
   "metadata": {},
   "outputs": [
    {
     "data": {
      "image/png": "[encoded data removed]",
      "text/plain": [
       "<Figure size 1800x600 with 1 Axes>"
      ]
     },
     "metadata": {},
     "output_type": "display_data"
    }
   ],
   "source": [
    "result = circuit()\n",
    "plot_amplitudes(result)"
   ]
  },
  {
   "cell_type": "markdown",
   "id": "375a28d2",
   "metadata": {},
   "source": [
    "Notice how the oracle inverted the sign of the amplitude of the target state."
   ]
  },
  {
   "cell_type": "markdown",
   "id": "ff5d8235",
   "metadata": {},
   "source": [
    "### Coding the diffuser\n",
    "To perform the diffusion operator we need to invert anything perpendicular to |s⟩. This can be done using a method similar to the Oracle.\n"
   ]
  },
  {
   "cell_type": "code",
   "execution_count": 15,
   "id": "b36e435c",
   "metadata": {},
   "outputs": [],
   "source": [
    "def create_diffuser(nqubits):\n",
    "    diffuser = models.Circuit(nqubits+1)\n",
    "    for i in range(nqubits):\n",
    "        diffuser.add(gates.H(i))\n",
    "    for i in range(nqubits):\n",
    "        diffuser.add(gates.X(i))\n",
    "    diffuser.add(gates.Z(0).controlled_by(*range(1,nqubits)))\n",
    "    for i in range(nqubits):\n",
    "        diffuser.add(gates.X(i))\n",
    "    for i in range(nqubits):\n",
    "        diffuser.add(gates.H(i))\n",
    "    return diffuser"
   ]
  },
  {
   "cell_type": "markdown",
   "id": "c7890935",
   "metadata": {},
   "source": [
    "Let's check the amplitudes after the diffusion using the same methods as above"
   ]
  },
  {
   "cell_type": "code",
   "execution_count": 16,
   "id": "e6e72674",
   "metadata": {},
   "outputs": [
    {
     "name": "stdout",
     "output_type": "stream",
     "text": [
      "q0: ─H───o─H─X─Z─X─H─\n",
      "q1: ─H───o─H─X─o─X─H─\n",
      "q2: ─H───o─H─X─o─X─H─\n",
      "q3: ─X─H─X───────────\n"
     ]
    }
   ],
   "source": [
    "diffuser = create_diffuser(3)\n",
    "circuit = superposition + oracle + diffuser\n",
    "print(circuit.draw())"
   ]
  },
  {
   "cell_type": "code",
   "execution_count": 17,
   "id": "361b4676",
   "metadata": {},
   "outputs": [
    {
     "data": {
      "image/png": "[encoded data removed]",
      "text/plain": [
       "<Figure size 1800x600 with 1 Axes>"
      ]
     },
     "metadata": {},
     "output_type": "display_data"
    }
   ],
   "source": [
    "result = circuit()\n",
    "plot_amplitudes(result)"
   ]
  },
  {
   "cell_type": "markdown",
   "id": "e5dac2b7",
   "metadata": {},
   "source": [
    "Notice how the diffuser increased the amplitude of the target state."
   ]
  },
  {
   "cell_type": "markdown",
   "id": "2f97b758",
   "metadata": {},
   "source": [
    "### Grover's algorithm\n",
    "\n",
    "Repeating the oracle + diffuser operation for many iterations, further amplifies the probability to measure the target state."
   ]
  },
  {
   "cell_type": "code",
   "execution_count": 18,
   "id": "8c87ca8d",
   "metadata": {},
   "outputs": [],
   "source": [
    "def create_grover(nqubits, iterations):\n",
    "    \"\"\"Complete circuit that implements Grover's algorithm.\n",
    "    \n",
    "    Args:\n",
    "        nqubits (int): Number of qubits in the circuit / target state.\n",
    "        iterations (int): Number of times the oracle + diffuser operation is repeated.\n",
    "    \"\"\"\n",
    "    superposition = create_superposition(nqubits)\n",
    "    oracle = create_oracle(nqubits)\n",
    "    diffuser = create_diffuser(nqubits)\n",
    "    \n",
    "    grover = models.Circuit(nqubits+1)\n",
    "    grover += superposition\n",
    "    for _ in range(iterations):\n",
    "        grover += oracle + diffuser\n",
    "    # measure all qubits\n",
    "    grover.add([ gates.M(i) for i in range(nqubits)])\n",
    "    return grover"
   ]
  },
  {
   "cell_type": "markdown",
   "id": "9d9e6c59",
   "metadata": {},
   "source": [
    "You can check how the amplitude is affected by changing the number of iterations below"
   ]
  },
  {
   "cell_type": "code",
   "execution_count": 19,
   "id": "b7adbe0e",
   "metadata": {},
   "outputs": [
    {
     "data": {
      "image/png": "[encoded data removed]",
      "text/plain": [
       "<Figure size 1800x600 with 1 Axes>"
      ]
     },
     "metadata": {},
     "output_type": "display_data"
    }
   ],
   "source": [
    "grover = create_grover(3, 2)\n",
    "plot_amplitudes(grover())"
   ]
  },
  {
   "cell_type": "markdown",
   "id": "69c9e6e0",
   "metadata": {},
   "source": [
    "The number of iterations that gives the highest probability is given by\n",
    "\n",
    "$$ \\frac{\\pi }{4}\\sqrt{\\frac{2^{n_{qubits}}}{n_{solutions}}} $$\n",
    "\n",
    "where $n_{solutions}$ is the number of target solutions to the search. In our case $n_{solutions} = 1$."
   ]
  },
  {
   "cell_type": "code",
   "execution_count": 20,
   "id": "79ebfba0",
   "metadata": {},
   "outputs": [],
   "source": [
    "def grover_iterations(nqubits, nsol=1):\n",
    "    return int((np.pi/4)*np.sqrt((2**nqubits)/nsol))"
   ]
  },
  {
   "cell_type": "code",
   "execution_count": 21,
   "id": "0bef2c02",
   "metadata": {},
   "outputs": [
    {
     "data": {
      "text/plain": [
       "2"
      ]
     },
     "execution_count": 21,
     "metadata": {},
     "output_type": "execute_result"
    }
   ],
   "source": [
    "iterations = grover_iterations(3)\n",
    "iterations"
   ]
  },
  {
   "cell_type": "code",
   "execution_count": 22,
   "id": "607c62bc",
   "metadata": {},
   "outputs": [
    {
     "data": {
      "image/png": "[encoded data removed]",
      "text/plain": [
       "<Figure size 1800x600 with 1 Axes>"
      ]
     },
     "metadata": {},
     "output_type": "display_data"
    }
   ],
   "source": [
    "grover = create_grover(3, iterations)\n",
    "plot_amplitudes(grover())"
   ]
  },
  {
   "cell_type": "markdown",
   "id": "1478a281",
   "metadata": {},
   "source": [
    "We can also have a look at the frequencies of measuring each bitstring"
   ]
  },
  {
   "cell_type": "code",
   "execution_count": 23,
   "id": "cc32c87e",
   "metadata": {},
   "outputs": [
    {
     "data": {
      "text/plain": [
       "Counter({'000': 11,\n",
       "         '001': 9,\n",
       "         '010': 4,\n",
       "         '011': 6,\n",
       "         '100': 12,\n",
       "         '101': 4,\n",
       "         '110': 5,\n",
       "         '111': 949})"
      ]
     },
     "execution_count": 23,
     "metadata": {},
     "output_type": "execute_result"
    }
   ],
   "source": [
    "result = grover(nshots=1000)\n",
    "result.frequencies()"
   ]
  },
  {
   "cell_type": "markdown",
   "id": "3494e54b",
   "metadata": {},
   "source": [
    "## Let's try to run the Grover's algorithm with an increasing number of qubits?"
   ]
  },
  {
   "cell_type": "markdown",
   "id": "46a923d7",
   "metadata": {},
   "source": [
    "Lets run the following benchmark to understand why hardware acceleration is important."
   ]
  },
  {
   "cell_type": "code",
   "execution_count": 24,
   "id": "55742941",
   "metadata": {},
   "outputs": [],
   "source": [
    "import time\n",
    "\n",
    "def performance(backend, qubit_range, platform=None):\n",
    "    if platform is None:\n",
    "        set_backend(backend)\n",
    "    else:\n",
    "        set_backend(backend, platform=platform)\n",
    "    \n",
    "    for i in qubit_range:\n",
    "        iterations = grover_iterations(i,1)\n",
    "        print(\"nqubits\", i, end=\"\")\n",
    "        circuit = create_grover(i, iterations)\n",
    "        start = time.time()\n",
    "        result = circuit(nshots=1000)\n",
    "        end = time.time()\n",
    "        print(f\"\\tTime = {end-start}\")\n",
    "        # Frequency of the target bitstring\n",
    "        freq = result.frequencies().get(i * '1')\n",
    "        print(\"Frequency =\", freq)\n",
    "        print()"
   ]
  },
  {
   "cell_type": "code",
   "execution_count": 26,
   "id": "2d22161b",
   "metadata": {
    "scrolled": true
   },
   "outputs": [
    {
     "name": "stderr",
     "output_type": "stream",
     "text": [
      "[Qibo 0.1.9|INFO|2022-11-22 15:33:25]: Using numpy backend on /CPU:0\n"
     ]
    },
    {
     "name": "stdout",
     "output_type": "stream",
     "text": [
      "nqubits 4\tTime = 0.00144195556640625\n",
      "Frequency = 965\n",
      "\n",
      "nqubits 5\tTime = 0.0013766288757324219\n",
      "Frequency = 1000\n",
      "\n",
      "nqubits 6\tTime = 0.0019028186798095703\n",
      "Frequency = 997\n",
      "\n",
      "nqubits 7\tTime = 0.004794120788574219\n",
      "Frequency = 996\n",
      "\n",
      "nqubits 8\tTime = 0.007553577423095703\n",
      "Frequency = 1000\n",
      "\n",
      "nqubits 9\tTime = 0.01234889030456543\n",
      "Frequency = 1000\n",
      "\n",
      "nqubits 10\tTime = 0.028682708740234375\n",
      "Frequency = 999\n",
      "\n",
      "nqubits 11\tTime = 0.07252097129821777\n",
      "Frequency = 1000\n",
      "\n",
      "nqubits 12\tTime = 0.19954872131347656\n",
      "Frequency = 1000\n",
      "\n",
      "nqubits 13\tTime = 0.5567760467529297\n",
      "Frequency = 1000\n",
      "\n",
      "nqubits 14\tTime = 1.6157896518707275\n",
      "Frequency = 1000\n",
      "\n",
      "nqubits 15\tTime = 4.693300008773804\n",
      "Frequency = 1000\n",
      "\n",
      "nqubits 16"
     ]
    },
    {
     "ename": "KeyboardInterrupt",
     "evalue": "",
     "output_type": "error",
     "traceback": [
      "\u001b[0;31m---------------------------------------------------------------------------\u001b[0m",
      "\u001b[0;31mKeyboardInterrupt\u001b[0m                         Traceback (most recent call last)",
      "Cell \u001b[0;32mIn [26], line 1\u001b[0m\n\u001b[0;32m----> 1\u001b[0m \u001b[43mperformance\u001b[49m\u001b[43m(\u001b[49m\u001b[38;5;124;43m\"\u001b[39;49m\u001b[38;5;124;43mnumpy\u001b[39;49m\u001b[38;5;124;43m\"\u001b[39;49m\u001b[43m,\u001b[49m\u001b[43m \u001b[49m\u001b[38;5;28;43mrange\u001b[39;49m\u001b[43m(\u001b[49m\u001b[38;5;241;43m4\u001b[39;49m\u001b[43m,\u001b[49m\u001b[38;5;241;43m20\u001b[39;49m\u001b[43m)\u001b[49m\u001b[43m)\u001b[49m\n",
      "Cell \u001b[0;32mIn [24], line 14\u001b[0m, in \u001b[0;36mperformance\u001b[0;34m(backend, qubit_range, platform)\u001b[0m\n\u001b[1;32m     12\u001b[0m circuit \u001b[38;5;241m=\u001b[39m create_grover(i, iterations)\n\u001b[1;32m     13\u001b[0m start \u001b[38;5;241m=\u001b[39m time\u001b[38;5;241m.\u001b[39mtime()\n\u001b[0;32m---> 14\u001b[0m result \u001b[38;5;241m=\u001b[39m \u001b[43mcircuit\u001b[49m\u001b[43m(\u001b[49m\u001b[43mnshots\u001b[49m\u001b[38;5;241;43m=\u001b[39;49m\u001b[38;5;241;43m1000\u001b[39;49m\u001b[43m)\u001b[49m\n\u001b[1;32m     15\u001b[0m end \u001b[38;5;241m=\u001b[39m time\u001b[38;5;241m.\u001b[39mtime()\n\u001b[1;32m     16\u001b[0m \u001b[38;5;28mprint\u001b[39m(\u001b[38;5;124mf\u001b[39m\u001b[38;5;124m\"\u001b[39m\u001b[38;5;130;01m\\t\u001b[39;00m\u001b[38;5;124mTime = \u001b[39m\u001b[38;5;132;01m{\u001b[39;00mend\u001b[38;5;241m-\u001b[39mstart\u001b[38;5;132;01m}\u001b[39;00m\u001b[38;5;124m\"\u001b[39m)\n",
      "File \u001b[0;32m~/miniconda3/envs/test1/lib/python3.9/site-packages/qibo/models/circuit.py:1019\u001b[0m, in \u001b[0;36mCircuit.__call__\u001b[0;34m(self, initial_state, nshots)\u001b[0m\n\u001b[1;32m   1017\u001b[0m \u001b[38;5;28;01mdef\u001b[39;00m \u001b[38;5;21m__call__\u001b[39m(\u001b[38;5;28mself\u001b[39m, initial_state\u001b[38;5;241m=\u001b[39m\u001b[38;5;28;01mNone\u001b[39;00m, nshots\u001b[38;5;241m=\u001b[39m\u001b[38;5;28;01mNone\u001b[39;00m):\n\u001b[1;32m   1018\u001b[0m     \u001b[38;5;124;03m\"\"\"Equivalent to ``circuit.execute``.\"\"\"\u001b[39;00m\n\u001b[0;32m-> 1019\u001b[0m     \u001b[38;5;28;01mreturn\u001b[39;00m \u001b[38;5;28;43mself\u001b[39;49m\u001b[38;5;241;43m.\u001b[39;49m\u001b[43mexecute\u001b[49m\u001b[43m(\u001b[49m\u001b[43minitial_state\u001b[49m\u001b[38;5;241;43m=\u001b[39;49m\u001b[43minitial_state\u001b[49m\u001b[43m,\u001b[49m\u001b[43m \u001b[49m\u001b[43mnshots\u001b[49m\u001b[38;5;241;43m=\u001b[39;49m\u001b[43mnshots\u001b[49m\u001b[43m)\u001b[49m\n",
      "File \u001b[0;32m~/miniconda3/envs/test1/lib/python3.9/site-packages/qibo/models/circuit.py:1015\u001b[0m, in \u001b[0;36mCircuit.execute\u001b[0;34m(self, initial_state, nshots)\u001b[0m\n\u001b[1;32m   1011\u001b[0m     \u001b[38;5;28;01mreturn\u001b[39;00m GlobalBackend()\u001b[38;5;241m.\u001b[39mexecute_distributed_circuit(\n\u001b[1;32m   1012\u001b[0m         \u001b[38;5;28mself\u001b[39m, initial_state, nshots\n\u001b[1;32m   1013\u001b[0m     )\n\u001b[1;32m   1014\u001b[0m \u001b[38;5;28;01melse\u001b[39;00m:\n\u001b[0;32m-> 1015\u001b[0m     \u001b[38;5;28;01mreturn\u001b[39;00m \u001b[43mGlobalBackend\u001b[49m\u001b[43m(\u001b[49m\u001b[43m)\u001b[49m\u001b[38;5;241;43m.\u001b[39;49m\u001b[43mexecute_circuit\u001b[49m\u001b[43m(\u001b[49m\u001b[38;5;28;43mself\u001b[39;49m\u001b[43m,\u001b[49m\u001b[43m \u001b[49m\u001b[43minitial_state\u001b[49m\u001b[43m,\u001b[49m\u001b[43m \u001b[49m\u001b[43mnshots\u001b[49m\u001b[43m)\u001b[49m\n",
      "File \u001b[0;32m~/miniconda3/envs/test1/lib/python3.9/site-packages/qibo/backends/numpy.py:365\u001b[0m, in \u001b[0;36mNumpyBackend.execute_circuit\u001b[0;34m(self, circuit, initial_state, nshots, return_array)\u001b[0m\n\u001b[1;32m    362\u001b[0m         state \u001b[38;5;241m=\u001b[39m \u001b[38;5;28mself\u001b[39m\u001b[38;5;241m.\u001b[39mcast(initial_state)\n\u001b[1;32m    364\u001b[0m     \u001b[38;5;28;01mfor\u001b[39;00m gate \u001b[38;5;129;01min\u001b[39;00m circuit\u001b[38;5;241m.\u001b[39mqueue:\n\u001b[0;32m--> 365\u001b[0m         state \u001b[38;5;241m=\u001b[39m \u001b[43mgate\u001b[49m\u001b[38;5;241;43m.\u001b[39;49m\u001b[43mapply\u001b[49m\u001b[43m(\u001b[49m\u001b[38;5;28;43mself\u001b[39;49m\u001b[43m,\u001b[49m\u001b[43m \u001b[49m\u001b[43mstate\u001b[49m\u001b[43m,\u001b[49m\u001b[43m \u001b[49m\u001b[43mnqubits\u001b[49m\u001b[43m)\u001b[49m\n\u001b[1;32m    367\u001b[0m \u001b[38;5;28;01mif\u001b[39;00m return_array:\n\u001b[1;32m    368\u001b[0m     \u001b[38;5;28;01mreturn\u001b[39;00m state\n",
      "File \u001b[0;32m~/miniconda3/envs/test1/lib/python3.9/site-packages/qibo/gates/abstract.py:268\u001b[0m, in \u001b[0;36mGate.apply\u001b[0;34m(self, backend, state, nqubits)\u001b[0m\n\u001b[1;32m    267\u001b[0m \u001b[38;5;28;01mdef\u001b[39;00m \u001b[38;5;21mapply\u001b[39m(\u001b[38;5;28mself\u001b[39m, backend, state, nqubits):\n\u001b[0;32m--> 268\u001b[0m     \u001b[38;5;28;01mreturn\u001b[39;00m \u001b[43mbackend\u001b[49m\u001b[38;5;241;43m.\u001b[39;49m\u001b[43mapply_gate\u001b[49m\u001b[43m(\u001b[49m\u001b[38;5;28;43mself\u001b[39;49m\u001b[43m,\u001b[49m\u001b[43m \u001b[49m\u001b[43mstate\u001b[49m\u001b[43m,\u001b[49m\u001b[43m \u001b[49m\u001b[43mnqubits\u001b[49m\u001b[43m)\u001b[49m\n",
      "File \u001b[0;32m~/miniconda3/envs/test1/lib/python3.9/site-packages/qibo/backends/numpy.py:181\u001b[0m, in \u001b[0;36mNumpyBackend.apply_gate\u001b[0;34m(self, gate, state, nqubits)\u001b[0m\n\u001b[1;32m    179\u001b[0m     matrix \u001b[38;5;241m=\u001b[39m \u001b[38;5;28mself\u001b[39m\u001b[38;5;241m.\u001b[39mnp\u001b[38;5;241m.\u001b[39mreshape(matrix, \u001b[38;5;241m2\u001b[39m \u001b[38;5;241m*\u001b[39m \u001b[38;5;28mlen\u001b[39m(gate\u001b[38;5;241m.\u001b[39mqubits) \u001b[38;5;241m*\u001b[39m (\u001b[38;5;241m2\u001b[39m,))\n\u001b[1;32m    180\u001b[0m     opstring \u001b[38;5;241m=\u001b[39m einsum_utils\u001b[38;5;241m.\u001b[39mapply_gate_string(gate\u001b[38;5;241m.\u001b[39mqubits, nqubits)\n\u001b[0;32m--> 181\u001b[0m     state \u001b[38;5;241m=\u001b[39m \u001b[38;5;28;43mself\u001b[39;49m\u001b[38;5;241;43m.\u001b[39;49m\u001b[43mnp\u001b[49m\u001b[38;5;241;43m.\u001b[39;49m\u001b[43meinsum\u001b[49m\u001b[43m(\u001b[49m\u001b[43mopstring\u001b[49m\u001b[43m,\u001b[49m\u001b[43m \u001b[49m\u001b[43mstate\u001b[49m\u001b[43m,\u001b[49m\u001b[43m \u001b[49m\u001b[43mmatrix\u001b[49m\u001b[43m)\u001b[49m\n\u001b[1;32m    182\u001b[0m \u001b[38;5;28;01mreturn\u001b[39;00m \u001b[38;5;28mself\u001b[39m\u001b[38;5;241m.\u001b[39mnp\u001b[38;5;241m.\u001b[39mreshape(state, (\u001b[38;5;241m2\u001b[39m\u001b[38;5;241m*\u001b[39m\u001b[38;5;241m*\u001b[39mnqubits,))\n",
      "File \u001b[0;32m<__array_function__ internals>:180\u001b[0m, in \u001b[0;36meinsum\u001b[0;34m(*args, **kwargs)\u001b[0m\n",
      "File \u001b[0;32m~/miniconda3/envs/test1/lib/python3.9/site-packages/numpy/core/einsumfunc.py:1371\u001b[0m, in \u001b[0;36meinsum\u001b[0;34m(out, optimize, *operands, **kwargs)\u001b[0m\n\u001b[1;32m   1369\u001b[0m     \u001b[38;5;28;01mif\u001b[39;00m specified_out:\n\u001b[1;32m   1370\u001b[0m         kwargs[\u001b[38;5;124m'\u001b[39m\u001b[38;5;124mout\u001b[39m\u001b[38;5;124m'\u001b[39m] \u001b[38;5;241m=\u001b[39m out\n\u001b[0;32m-> 1371\u001b[0m     \u001b[38;5;28;01mreturn\u001b[39;00m \u001b[43mc_einsum\u001b[49m\u001b[43m(\u001b[49m\u001b[38;5;241;43m*\u001b[39;49m\u001b[43moperands\u001b[49m\u001b[43m,\u001b[49m\u001b[43m \u001b[49m\u001b[38;5;241;43m*\u001b[39;49m\u001b[38;5;241;43m*\u001b[39;49m\u001b[43mkwargs\u001b[49m\u001b[43m)\u001b[49m\n\u001b[1;32m   1373\u001b[0m \u001b[38;5;66;03m# Check the kwargs to avoid a more cryptic error later, without having to\u001b[39;00m\n\u001b[1;32m   1374\u001b[0m \u001b[38;5;66;03m# repeat default values here\u001b[39;00m\n\u001b[1;32m   1375\u001b[0m valid_einsum_kwargs \u001b[38;5;241m=\u001b[39m [\u001b[38;5;124m'\u001b[39m\u001b[38;5;124mdtype\u001b[39m\u001b[38;5;124m'\u001b[39m, \u001b[38;5;124m'\u001b[39m\u001b[38;5;124morder\u001b[39m\u001b[38;5;124m'\u001b[39m, \u001b[38;5;124m'\u001b[39m\u001b[38;5;124mcasting\u001b[39m\u001b[38;5;124m'\u001b[39m]\n",
      "\u001b[0;31mKeyboardInterrupt\u001b[0m: "
     ]
    }
   ],
   "source": [
    "performance(\"numpy\", range(4,20))"
   ]
  },
  {
   "cell_type": "code",
   "execution_count": null,
   "id": "f782449f",
   "metadata": {},
   "outputs": [
    {
     "name": "stderr",
     "output_type": "stream",
     "text": [
      "[Qibo 0.1.9|INFO|2022-11-22 15:33:51]: Using tensorflow backend on /device:CPU:0\n"
     ]
    },
    {
     "name": "stdout",
     "output_type": "stream",
     "text": [
      "nqubits 4\tTime = 0.0212552547454834\n",
      "Frequency = tf.Tensor(953, shape=(), dtype=int64)\n",
      "\n",
      "nqubits 5\tTime = 0.026745319366455078\n",
      "Frequency = tf.Tensor(1000, shape=(), dtype=int64)\n",
      "\n",
      "nqubits 6\tTime = 0.04332566261291504\n",
      "Frequency = tf.Tensor(994, shape=(), dtype=int64)\n",
      "\n",
      "nqubits 7\tTime = 0.06605124473571777\n",
      "Frequency = tf.Tensor(995, shape=(), dtype=int64)\n",
      "\n",
      "nqubits 8\tTime = 0.11837935447692871\n",
      "Frequency = tf.Tensor(1000, shape=(), dtype=int64)\n",
      "\n",
      "nqubits 9\tTime = 0.23500823974609375\n",
      "Frequency = tf.Tensor(1000, shape=(), dtype=int64)\n",
      "\n",
      "nqubits 10\tTime = 0.4235525131225586\n",
      "Frequency = tf.Tensor(999, shape=(), dtype=int64)\n",
      "\n",
      "nqubits 11\tTime = 0.7016787528991699\n",
      "Frequency = tf.Tensor(1000, shape=(), dtype=int64)\n",
      "\n",
      "nqubits 12\tTime = 1.3141107559204102\n",
      "Frequency = tf.Tensor(1000, shape=(), dtype=int64)\n",
      "\n",
      "nqubits 13\tTime = 3.0493922233581543\n",
      "Frequency = tf.Tensor(1000, shape=(), dtype=int64)\n",
      "\n",
      "nqubits 14"
     ]
    }
   ],
   "source": [
    "performance(\"tensorflow\", range(4,20))"
   ]
  },
  {
   "cell_type": "code",
   "execution_count": null,
   "id": "9a406daa",
   "metadata": {},
   "outputs": [],
   "source": [
    "performance(\"qibojit\", range(4,20))"
   ]
  },
  {
   "cell_type": "code",
   "execution_count": null,
   "id": "f30d99c2",
   "metadata": {},
   "outputs": [],
   "source": []
  }
 ],
 "metadata": {
  "kernelspec": {
   "display_name": "Python 3 (ipykernel)",
   "language": "python",
   "name": "python3"
  },
  "language_info": {
   "codemirror_mode": {
    "name": "ipython",
    "version": 3
   },
   "file_extension": ".py",
   "mimetype": "text/x-python",
   "name": "python",
   "nbconvert_exporter": "python",
   "pygments_lexer": "ipython3",
   "version": "3.9.15"
  }
 },
 "nbformat": 4,
 "nbformat_minor": 5
}
