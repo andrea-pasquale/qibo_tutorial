{
 "cells": [
  {
   "cell_type": "code",
   "execution_count": null,
   "metadata": {
    "colab": {
     "base_uri": "https://localhost:8080/"
    },
    "executionInfo": {
     "elapsed": 3976,
     "status": "ok",
     "timestamp": 1664824181937,
     "user": {
      "displayName": "Andrea Pasquale",
      "userId": "10306968523559474406"
     },
     "user_tz": -120
    },
    "id": "IS5rJyWbyW0A",
    "outputId": "8ed0e9d1-d654-46eb-c623-4230c52f8c8d"
   },
   "outputs": [],
   "source": [
    "!pip install qibo"
   ]
  },
  {
   "cell_type": "code",
   "execution_count": null,
   "metadata": {},
   "outputs": [],
   "source": [
    "from qibo import set_backend\n",
    "set_backend(\"numpy\")"
   ]
  },
  {
   "cell_type": "markdown",
   "metadata": {
    "id": "7nwAU0n_yAvV"
   },
   "source": [
    "# Quantum Machine Learning applications using Qibo\n",
    "\n",
    "## How to write a VQE?\n",
    "\n",
    "Qibo provides functionality to optimize a Variational Eigensolver. This includes a VQE model that handles optimization and Hamiltonians which can be used to define the loss function. In the following example we optimize a VQE to find the ground state of the Heisenberg XXZ model\n",
    "\n",
    "$$H = \\sum _{i = 1}^N \\left (X_i X_{i + 1} + Y_i Y_{i + 1} + \\delta Z_i Z_{i + 1}\\right )$$\n"
   ]
  },
  {
   "cell_type": "code",
   "execution_count": null,
   "metadata": {
    "executionInfo": {
     "elapsed": 653,
     "status": "ok",
     "timestamp": 1664824198556,
     "user": {
      "displayName": "Andrea Pasquale",
      "userId": "10306968523559474406"
     },
     "user_tz": -120
    },
    "id": "39DQQTEl4G0G"
   },
   "outputs": [],
   "source": [
    "import numpy as np\n",
    "from qibo import gates, models, hamiltonians\n",
    "\n",
    "nqubits = 4 # number of qubits in the system\n",
    "nlayers = 2 # number of layers in the circuit ansatz\n",
    "\n",
    "# Define problem Hamiltonian\n",
    "hamiltonian = hamiltonians.XXZ(nqubits)\n",
    "\n",
    "# Define variational circuit ansatz\n",
    "circuit = models.Circuit(nqubits)\n",
    "pairs = list((i, i + 1) for i in range(0, nqubits - 1, 2))\n",
    "for l in range(nlayers):\n",
    "    circuit.add((gates.RY(q, theta=0) for q in range(nqubits)))\n",
    "    circuit.add((gates.CZ(q, q+1) for q in range(0, nqubits-1, 2)))\n",
    "    circuit.add((gates.RY(q, theta=0) for q in range(nqubits)))\n",
    "    circuit.add((gates.CZ(i, i + 1) for i in range(1, nqubits - 2, 2)))\n",
    "    circuit.add(gates.CZ(0, nqubits - 1)) \n",
    "circuit.add((gates.RY(i, theta=0) for i in range(nqubits)))\n",
    "\n",
    "# Define VQE model\n",
    "vqe = models.VQE(circuit, hamiltonian)"
   ]
  },
  {
   "cell_type": "code",
   "execution_count": null,
   "metadata": {
    "colab": {
     "base_uri": "https://localhost:8080/"
    },
    "executionInfo": {
     "elapsed": 2115,
     "status": "ok",
     "timestamp": 1664824213700,
     "user": {
      "displayName": "Andrea Pasquale",
      "userId": "10306968523559474406"
     },
     "user_tz": -120
    },
    "id": "QjmsVmh15Ct4",
    "outputId": "419a98d6-64f6-4242-ade6-f9613e6ef416"
   },
   "outputs": [],
   "source": [
    "# Calculate exact ground state energy using exact diagonalization\n",
    "target_energy = np.real(np.min(hamiltonian.eigenvalues()))\n",
    "\n",
    "# Optimize the VQE model\n",
    "initial_parameters = np.random.uniform(0, 2 * np.pi, 2 * nqubits * nlayers + nqubits)\n",
    "best_energy, params, _ = vqe.minimize(initial_parameters, method=\"BFGS\", \n",
    "                                   options={'disp': True, \"maxiter\": 100}, \n",
    "                                   compile=False)\n",
    "\n",
    "print()\n",
    "print(\"Target energy:\", target_energy)\n",
    "print(\"Minimum energy obtained:\", best_energy)"
   ]
  },
  {
   "cell_type": "markdown",
   "metadata": {
    "id": "G-a1BZVH6bLE"
   },
   "source": [
    "## How to write a custom variational circuit optimization?\n",
    "\n",
    "Similarly to the VQE, a custom implementation of a Variational Quantum Circuit (VQC) model can be achieved by defining a custom loss function and calling the qibo.optimizers.optimize() method."
   ]
  },
  {
   "cell_type": "code",
   "execution_count": null,
   "metadata": {
    "colab": {
     "base_uri": "https://localhost:8080/"
    },
    "executionInfo": {
     "elapsed": 4889,
     "status": "ok",
     "timestamp": 1664824222358,
     "user": {
      "displayName": "Andrea Pasquale",
      "userId": "10306968523559474406"
     },
     "user_tz": -120
    },
    "id": "d8j-ND336caM",
    "outputId": "0e135057-20ac-4625-9ba0-0d381ad06207"
   },
   "outputs": [],
   "source": [
    "import numpy as np\n",
    "from qibo import models, gates\n",
    "from qibo.optimizers import optimize\n",
    "\n",
    "# custom loss function, computes fidelity\n",
    "def myloss(parameters, circuit, target):\n",
    "    circuit.set_parameters(parameters)\n",
    "    final_state = circuit().state(numpy=True)\n",
    "    return 1 - np.abs(np.conj(target).dot(final_state))**2\n",
    "\n",
    "nqubits = 6\n",
    "nlayers  = 2\n",
    "\n",
    "# Create variational circuit\n",
    "c = models.Circuit(nqubits)\n",
    "for l in range(nlayers):\n",
    "    c.add((gates.RY(q, theta=0) for q in range(nqubits)))\n",
    "    c.add((gates.CZ(q, q+1) for q in range(0, nqubits-1, 2)))\n",
    "    c.add((gates.RY(q, theta=0) for q in range(nqubits)))\n",
    "    c.add((gates.CZ(q, q+1) for q in range(1, nqubits-2, 2)))\n",
    "    c.add(gates.CZ(0, nqubits-1))\n",
    "c.add((gates.RY(q, theta=0) for q in range(nqubits)))\n",
    "\n",
    "# Optimize starting from a random guess for the variational parameters\n",
    "x0 = np.random.uniform(0, 2*np.pi, 2*nqubits*nlayers + nqubits)\n",
    "data = np.random.normal(0, 1, size=2**nqubits)\n",
    "\n",
    "# perform optimization\n",
    "best, params, extra = optimize(myloss, x0, args=(c, data), method='BFGS', options={'maxiter' : 100, 'disp': True})\n",
    "\n",
    "\n",
    "# set final solution to circuit instance\n",
    "c.set_parameters(params)"
   ]
  },
  {
   "cell_type": "markdown",
   "metadata": {
    "id": "7qkadpPuO9L2"
   },
   "source": [
    "## Variational Quantum Classifier\n",
    "\n",
    "Using Quantum Machine Learning it is possibile to build a classifier.\n"
   ]
  },
  {
   "cell_type": "code",
   "execution_count": null,
   "metadata": {
    "executionInfo": {
     "elapsed": 362,
     "status": "ok",
     "timestamp": 1664824228364,
     "user": {
      "displayName": "Andrea Pasquale",
      "userId": "10306968523559474406"
     },
     "user_tz": -120
    },
    "id": "hG23SR9TPOQ1"
   },
   "outputs": [],
   "source": [
    "import numpy as np\n",
    "import matplotlib.pyplot as plt\n",
    "from qibo.models import Circuit\n",
    "from qibo import gates\n",
    "from qibo.optimizers import optimize\n",
    "import qibo"
   ]
  },
  {
   "cell_type": "markdown",
   "metadata": {
    "id": "oEn6El0gS8Nq"
   },
   "source": [
    "Lets assume that we want to solve the following classify a set points whether the point lies inside or outside a circle."
   ]
  },
  {
   "cell_type": "code",
   "execution_count": null,
   "metadata": {
    "colab": {
     "base_uri": "https://localhost:8080/",
     "height": 320
    },
    "executionInfo": {
     "elapsed": 485,
     "status": "ok",
     "timestamp": 1664824231231,
     "user": {
      "displayName": "Andrea Pasquale",
      "userId": "10306968523559474406"
     },
     "user_tz": -120
    },
    "id": "hhwB86JlTjfx",
    "outputId": "28e7ad1f-519d-4e7a-d18e-6460906228a1"
   },
   "outputs": [],
   "source": [
    "def create_dataset(num):\n",
    "    '''Creates and lables the dataset of random points in a plane in/out of a circle of half area.\n",
    "    Args:\n",
    "        num (int): number of random points to generate.\n",
    "        \n",
    "    Returns:\n",
    "        [data, labels] (np.array): (x, y) coordinates of points in a plane with [0, 1] labels for \n",
    "                                inside/outside the circle.\n",
    "    \n",
    "    '''\n",
    "    data = (-1 + 2*np.random.rand(num, 2))\n",
    "    labels = []\n",
    "    for x in data:\n",
    "        r = x[0]**2+x[1]**2\n",
    "        if r <= 2/np.pi:\n",
    "            labels.append(0)\n",
    "        else:\n",
    "            labels.append(1)\n",
    "    return [data, np.array(labels)]\n",
    "\n",
    "\n",
    "def plot_set(dataset):\n",
    "    '''Plots a given dataset with the corresponding circle with different colors for labelled in/out.\n",
    "    Args:\n",
    "        dataset (np.array): (x, y) coordinates of points in a plane with [0, 1] labels for \n",
    "                                inside/outside the circle.\n",
    "    Returns:\n",
    "        plot of the dataset points color coded whether labelled inside or outside the circle.\n",
    "    \n",
    "    '''\n",
    "    x_in = []\n",
    "    y_in = []\n",
    "    x_out = []\n",
    "    y_out = []\n",
    "    for i in range(len(dataset[0])):\n",
    "        if dataset[1][i] == 0:\n",
    "            x_in.append(dataset[0][i][0])\n",
    "            y_in.append(dataset[0][i][1])\n",
    "        else:\n",
    "            x_out.append(dataset[0][i][0])\n",
    "            y_out.append(dataset[0][i][1])\n",
    "    fig, ax = plt.subplots(figsize=(5, 5))\n",
    "    circle = plt.Circle((0, 0), np.sqrt(2 / np.pi), color='black', fill=False, zorder=10)\n",
    "    ax.add_artist(circle)\n",
    "    ax.scatter(x_in, y_in)\n",
    "    ax.scatter(x_out, y_out)\n",
    "    plt.show()\n",
    "\n",
    "plot_set(create_dataset(100))"
   ]
  },
  {
   "cell_type": "markdown",
   "metadata": {
    "id": "PVwRs1_fawCG"
   },
   "source": [
    "We can solve this classification problem by using a quantum circuit with a single qubit."
   ]
  },
  {
   "cell_type": "code",
   "execution_count": null,
   "metadata": {
    "executionInfo": {
     "elapsed": 217,
     "status": "ok",
     "timestamp": 1664824233896,
     "user": {
      "displayName": "Andrea Pasquale",
      "userId": "10306968523559474406"
     },
     "user_tz": -120
    },
    "id": "Si0Yj25da1de"
   },
   "outputs": [],
   "source": [
    "def ansatz(layers):\n",
    "    '''Create the variational quantum circuit to optimize.\n",
    "    Args:\n",
    "        layers (int): number of layers for the variational circuit.\n",
    "        \n",
    "    Returns:\n",
    "        c (qibo.models.Circuit): ansatz circuit with parameterized gates.\n",
    "    \n",
    "    '''\n",
    "    c = Circuit(1)\n",
    "    for l in range(layers):\n",
    "        c.add(gates.RY(0, theta=0))\n",
    "        c.add(gates.RZ(0, theta=0))\n",
    "    c.add(gates.M(0))\n",
    "    return c"
   ]
  },
  {
   "cell_type": "code",
   "execution_count": null,
   "metadata": {
    "executionInfo": {
     "elapsed": 1,
     "status": "ok",
     "timestamp": 1664824235268,
     "user": {
      "displayName": "Andrea Pasquale",
      "userId": "10306968523559474406"
     },
     "user_tz": -120
    },
    "id": "-OjcmBJSQuHk"
   },
   "outputs": [],
   "source": [
    "def circuit(c, params, x):\n",
    "    '''Sets the parameters to the variational circuit with a given input x.\n",
    "    Args:\n",
    "        c (qibo.models.Circuit): ansatz circuit with parameterized gates.\n",
    "        params (np.array): variational parameters to optimize.\n",
    "        x (np.array): (x, y) points on the plane of the coordinate to classify.\n",
    "        \n",
    "    Returns:\n",
    "        c (qibo.models.Circuit): circuit with the set optmization parameters.\n",
    "    \n",
    "    '''\n",
    "    c_params = []\n",
    "    for i in range(0, len(params), 4):\n",
    "        c_params.append(params[i]*x[0]+params[i+1])\n",
    "        c_params.append(params[i+2]*x[1]+params[i+3])\n",
    "    c.set_parameters(c_params)\n",
    "    return c\n",
    "\n",
    "\n",
    "def cost_one(params, c, x, label):\n",
    "    '''Cost function for a single coordinate.\n",
    "    Args:\n",
    "        params (np.array): variational parameters to optimize.\n",
    "        c (qibo.models.Circuit): ansatz circuit with parameterized gates.\n",
    "        x (np.array): (x, y) points on the plane of the coordinate to classify.\n",
    "        label (int): known location of the coordinate. 0 for inside the circle, 1 for inside.\n",
    "        \n",
    "    Returns:\n",
    "        cost (float): value that characterizes how close the classification was to the optimial.\n",
    "    \n",
    "    '''\n",
    "    cir = circuit(c, params, x)\n",
    "    probs = cir(nshots=100).probabilities(qubits=[0])\n",
    "    cost = .5*(1-(probs[label]))**2\n",
    "    return cost\n",
    "\n",
    "\n",
    "def cost_all(params, c, training_set):\n",
    "    '''Cost function for all the coordinates of the training set.\n",
    "    Args:\n",
    "        params (np.array): variational parameters to optimize.\n",
    "        c (qibo.models.Circuit): ansatz circuit with parameterized gates.\n",
    "        training_set (np.array): (x, y) coordinates of points in a plane with [0, 1] labels for \n",
    "                                 inside/outside the circle.\n",
    "    \n",
    "    Returns:\n",
    "        cost (float): combined cost function of how close the overall classification was.\n",
    "        \n",
    "    '''\n",
    "    cost = 0\n",
    "    for x, label in zip(training_set[0], training_set[1]):\n",
    "        cost += cost_one(params, c, x, label)\n",
    "    cost /= len(training_set[0])\n",
    "    return cost\n",
    "\n",
    "\n",
    "def train(training_set, c, layers, method='L-BFGS-B'):\n",
    "    '''Train a given set of coordinates with a 1 qubit variational circuit.\n",
    "    Args:\n",
    "        training_set (np.array): (x, y) coordinates of points in a plane with [0, 1] labels for \n",
    "                                 inside/outside the circle.\n",
    "        c (qibo.models.Circuit): ansatz circuit with parameterized gates.\n",
    "        layers (int): number of layers for the variational circuit.\n",
    "        method (str): optimization scheme to use.\n",
    "        \n",
    "    Returns:\n",
    "        parameters (np.array): optimized parameters for classification.\n",
    "        \n",
    "    {'fun': r[1], 'x': r[0], 'nfev': r[2], 'nit': r[4], 'xmean': r[5], 'stds': r[6]}\n",
    "    \n",
    "    '''\n",
    "    np.random.seed(0)\n",
    "    init = np.random.rand(4*layers)\n",
    "    result, parameters, extra = optimize(cost_all, init, args=(c, training_set),\n",
    "                                         method='L-BFGS-B', options={'maxiter': 30})\n",
    "    return parameters"
   ]
  },
  {
   "cell_type": "code",
   "execution_count": null,
   "metadata": {
    "colab": {
     "base_uri": "https://localhost:8080/"
    },
    "executionInfo": {
     "elapsed": 2,
     "status": "ok",
     "timestamp": 1664824236195,
     "user": {
      "displayName": "Andrea Pasquale",
      "userId": "10306968523559474406"
     },
     "user_tz": -120
    },
    "id": "HH1IF1PxQ4VA",
    "outputId": "5bbc8b01-fff7-4256-e138-97e2b11f60ab"
   },
   "outputs": [],
   "source": [
    "qibo.set_backend('numpy')\n",
    "layers = 4\n",
    "train_num = 200\n",
    "test_num = 1000\n",
    "training_set = create_dataset(train_num)"
   ]
  },
  {
   "cell_type": "code",
   "execution_count": null,
   "metadata": {
    "colab": {
     "base_uri": "https://localhost:8080/"
    },
    "executionInfo": {
     "elapsed": 3,
     "status": "ok",
     "timestamp": 1664824237277,
     "user": {
      "displayName": "Andrea Pasquale",
      "userId": "10306968523559474406"
     },
     "user_tz": -120
    },
    "id": "Q16Wgim3Q_tk",
    "outputId": "a8319379-3585-49a3-fcf3-fb3331078527"
   },
   "outputs": [],
   "source": [
    "# Lets create our circuit\n",
    "c = ansatz(layers)\n",
    "\n",
    "print(c.draw())"
   ]
  },
  {
   "cell_type": "code",
   "execution_count": null,
   "metadata": {
    "executionInfo": {
     "elapsed": 42172,
     "status": "ok",
     "timestamp": 1664824280948,
     "user": {
      "displayName": "Andrea Pasquale",
      "userId": "10306968523559474406"
     },
     "user_tz": -120
    },
    "id": "fUA5RED8RBDg"
   },
   "outputs": [],
   "source": [
    "params = train(training_set, c, layers)"
   ]
  },
  {
   "cell_type": "markdown",
   "metadata": {
    "id": "Xncg2pPYd4ZZ"
   },
   "source": [
    "Lets evaluate the performance on a test set."
   ]
  },
  {
   "cell_type": "code",
   "execution_count": null,
   "metadata": {
    "executionInfo": {
     "elapsed": 252,
     "status": "ok",
     "timestamp": 1664824283101,
     "user": {
      "displayName": "Andrea Pasquale",
      "userId": "10306968523559474406"
     },
     "user_tz": -120
    },
    "id": "RYqSgTwHdwcz"
   },
   "outputs": [],
   "source": [
    "def evaluate(c, params, test_set):\n",
    "    '''Evaluation of the training set with given parameters.\n",
    "    Args:\n",
    "        c (qibo.models.Circuit): ansatz circuit with parameterized gates.\n",
    "        params (np.array): optimized parameters.\n",
    "        test_set (np.array): (x, y) coordinates of points in a plane.\n",
    "    \n",
    "    Returns:\n",
    "        guess (np.array): guesses of the classifier based on the output of the quantum circuit.\n",
    "    \n",
    "    '''\n",
    "    guess = []\n",
    "    for x in test_set:\n",
    "        cir = circuit(c, params, x)\n",
    "        probs = cir(nshots=100).probabilities(qubits=[0])\n",
    "        guess.append(np.argmax(probs))\n",
    "    return np.array(guess)\n",
    "\n",
    "\n",
    "def accuracy(guess, test_labels):\n",
    "    '''Accuracy of the test set fivent he known labels of the coordinates.\n",
    "    Args:\n",
    "        guess (np.array): guesses of the classifier based on the output of the quantum circuit.\n",
    "        test_labels (int): known location of the coordinates. 0 for inside the circle, 1 for inside.\n",
    "        \n",
    "    Returns:\n",
    "        accuracy (float): percentage of the test set that has been labelled correctly.\n",
    "        \n",
    "    '''\n",
    "    correct = guess==test_labels\n",
    "    return np.sum(correct)/len(correct)"
   ]
  },
  {
   "cell_type": "code",
   "execution_count": null,
   "metadata": {
    "colab": {
     "base_uri": "https://localhost:8080/"
    },
    "executionInfo": {
     "elapsed": 666,
     "status": "ok",
     "timestamp": 1664824284670,
     "user": {
      "displayName": "Andrea Pasquale",
      "userId": "10306968523559474406"
     },
     "user_tz": -120
    },
    "id": "ChuyOLQdRCiz",
    "outputId": "efe2cd21-f3fa-47fd-b70a-d0eb6a731cc9"
   },
   "outputs": [],
   "source": [
    "test_set = create_dataset(test_num)\n",
    "guess = evaluate(c, params, test_set[0])\n",
    "acc = accuracy(guess, test_set[1])\n",
    "print(f'Accuracy reached for the test set: {acc*100}%')\n"
   ]
  },
  {
   "cell_type": "code",
   "execution_count": null,
   "metadata": {
    "colab": {
     "base_uri": "https://localhost:8080/",
     "height": 320
    },
    "executionInfo": {
     "elapsed": 653,
     "status": "ok",
     "timestamp": 1664824285320,
     "user": {
      "displayName": "Andrea Pasquale",
      "userId": "10306968523559474406"
     },
     "user_tz": -120
    },
    "id": "yzE_qJk0SgqC",
    "outputId": "038b94c3-1fc7-485f-a0fd-3be72c95dceb"
   },
   "outputs": [],
   "source": [
    "plot_set([test_set[0], guess])"
   ]
  },
  {
   "cell_type": "markdown",
   "metadata": {
    "id": "RzrQ88l0eVld"
   },
   "source": [
    "## Exercise \n",
    "Modify the `create_dataset` and try to solve other classification problems.\n"
   ]
  },
  {
   "cell_type": "code",
   "execution_count": null,
   "metadata": {
    "id": "ufMNmi1YgETL"
   },
   "outputs": [],
   "source": []
  }
 ],
 "metadata": {
  "colab": {
   "authorship_tag": "ABX9TyPhV9xRZvVA3NgOSWMl8tdW",
   "collapsed_sections": [],
   "provenance": []
  },
  "kernelspec": {
   "display_name": "Python 3 (ipykernel)",
   "language": "python",
   "name": "python3"
  },
  "language_info": {
   "codemirror_mode": {
    "name": "ipython",
    "version": 3
   },
   "file_extension": ".py",
   "mimetype": "text/x-python",
   "name": "python",
   "nbconvert_exporter": "python",
   "pygments_lexer": "ipython3",
   "version": "3.10.5"
  }
 },
 "nbformat": 4,
 "nbformat_minor": 1
}
